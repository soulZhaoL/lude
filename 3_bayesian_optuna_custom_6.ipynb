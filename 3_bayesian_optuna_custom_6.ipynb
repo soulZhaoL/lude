{
 "cells": [
  {
   "cell_type": "code",
   "execution_count": null,
   "id": "initial_id",
   "metadata": {
    "collapsed": true
   },
   "outputs": [],
   "source": [
    "import optuna\n",
    "import pandas as pd\n",
    "\n",
    "# 你之前的导入和数据加载代码...\n",
    "from more_factor_test_origin_code_3 import cal_cagr\n",
    "df = pd.read_parquet('cb_data.pq')\n",
    "index = pd.read_parquet('index.pq')"
   ]
  },
  {
   "cell_type": "code",
   "execution_count": null,
   "outputs": [],
   "source": [
    "from cal_factor_util import simple_momentum, rsi, stochastic_oscillator, macd, momentum, adx, velocity, pvt, \\\n",
    "    volatility_breakout, trend_strength, dema\n",
    "\n",
    "df['pc1'] = simple_momentum(df['close'], period=1)\n",
    "df['pc3'] = simple_momentum(df['close'], period=3)\n",
    "df['pc5'] = simple_momentum(df['close'], period=5)\n",
    "df['pc7'] = simple_momentum(df['close'], period=7)\n",
    "\n",
    "df['rsi1'] = rsi(df, period=1)\n",
    "df['rsi3'] = rsi(df, period=3)\n",
    "df['rsi5'] = rsi(df, period=5)\n",
    "df['rsi7'] = rsi(df, period=7)\n",
    "\n",
    "df['stoch1'], df['stoch_signal1'] = stochastic_oscillator(df, k_period=3, d_period=1)\n",
    "df['stoch2'], df['stoch_signal2'] = stochastic_oscillator(df, k_period=7, d_period=2)\n",
    "df['stoch3'], df['stoch_signal3'] = stochastic_oscillator(df, k_period=14, d_period=3)\n",
    "\n",
    "df['macd'], df['macd_signal'], df['macd_diff'] = macd(df, fast_period=12, slow_period=26, signal_period=9)\n",
    "\n",
    "df['adx7'] = adx(df, period=7)\n",
    "df['adx14'] = adx(df, period=14)\n",
    "\n",
    "df['momentum3'] = momentum(df['close'], period=3)\n",
    "df['momentum6'] = momentum(df['close'], period=6)\n",
    "df['momentum12'] = momentum(df['close'], period=12)\n",
    "\n",
    "df['velocity3'] = velocity(df['close'], period=3)\n",
    "df['velocity5'] = velocity(df['close'], period=5)\n",
    "df['velocity7'] = velocity(df['close'], period=7)\n",
    "\n",
    "df['pvt'] = pvt(df)\n",
    "\n",
    "df['volatility_stk5'] = volatility_breakout(df, period=5)\n",
    "df['volatility_stk10'] = volatility_breakout(df, period=10)\n",
    "df['volatility_stk20'] = volatility_breakout(df, period=20)\n",
    "\n",
    "df['trend_strength'] = trend_strength(df, short_window=12, long_window=26)\n",
    "\n",
    "df['dema5'] = dema(df, period=5)\n",
    "df['dema21'] = dema(df, period=21)"
   ],
   "metadata": {
    "collapsed": false
   },
   "id": "a127ec9be76e07df"
  },
  {
   "cell_type": "code",
   "execution_count": null,
   "outputs": [],
   "source": [
    "# 基础设置\n",
    "start_date = '20220801'  # 开始日期\n",
    "end_date = '20240325' # 结束日期"
   ],
   "metadata": {
    "collapsed": false
   },
   "id": "566281d74fc59f25"
  },
  {
   "cell_type": "code",
   "execution_count": null,
   "outputs": [],
   "source": [
    "# 参数空间定义\n",
    "factors = ['pre_close', 'open', 'high', 'low', 'close', 'pct_chg', 'vol',  # 7\n",
    "           'amount', 'volatility_stk', 'mod_conv_prem', 'remain_cap', 'conv_prem',  # 12\n",
    "           'turnover', 'theory_value', 'amount', 'option_value', 'dblow',  # 17\n",
    "           'theory_bias', 'ytm', 'cap_mv_rate', 'pure_value', 'bond_prem',  # 22\n",
    "           'remain_size', 'theory_conv_prem', 'pb', 'pe_ttm', 'ps_ttm',  # 27\n",
    "           'pc1', 'pc3', 'pc5', 'pc7', 'rsi1',  # 32\n",
    "           'rsi3', 'rsi5', 'rsi7', 'stoch1', 'stoch_signal1', 'stoch2',  # 38\n",
    "           'stoch_signal2', 'stoch3', 'stoch_signal3', 'macd', 'macd_signal',  # 43\n",
    "           'macd_diff', 'adx7', 'adx14', 'momentum3', 'momentum6', 'momentum12',  # 49\n",
    "           'velocity3', 'velocity5', 'velocity7', 'pvt', 'volatility_stk5',  # 54\n",
    "           'volatility_stk10', 'volatility_stk20', 'trend_strength', 'dema5',  # 58\n",
    "           'dema21'  # 59\n",
    "           ]"
   ],
   "metadata": {
    "collapsed": false
   },
   "id": "cf9438051c3529c3"
  },
  {
   "cell_type": "code",
   "execution_count": null,
   "outputs": [],
   "source": [
    "def objective(trial):\n",
    "    # 使用 Optuna 定义参数空间\n",
    "    factor_ids = [trial.suggest_int(f'factor{i}_id', 0, len(factors) - 1) for i in range(1, 7)]\n",
    "    if len(set(factor_ids)) < 6:\n",
    "        return -1e6  # 如果因子 ID 重复，则返回一个大的数值作为惩罚\n",
    "    \n",
    "    \n",
    "    rank_factors = []\n",
    "    for i in range(1, 7):\n",
    "        factor_info = {\n",
    "            'name': factors[factor_ids[i - 1]],\n",
    "            'weight': trial.suggest_categorical(f'factor{i}_weight', [1, 2, 3, 4, 5]),\n",
    "            'ascending': trial.suggest_categorical(f'factor{i}_ascending', [True, False])\n",
    "        }\n",
    "        rank_factors.append(factor_info)\n",
    "    \n",
    "    return cal_cagr(df, start_date, end_date, rank_factors)"
   ],
   "metadata": {
    "collapsed": false
   },
   "id": "556cf10621490d7f"
  },
  {
   "cell_type": "code",
   "execution_count": null,
   "outputs": [],
   "source": [
    "study = optuna.create_study(sampler=optuna.samplers.TPESampler(seed=3333), direction='maximize')\n",
    "study.optimize(objective, n_trials=2000)"
   ],
   "metadata": {
    "collapsed": false
   },
   "id": "d86963b56951aef1"
  },
  {
   "cell_type": "code",
   "execution_count": null,
   "outputs": [],
   "source": [
    "# 打印最优参数\n",
    "best_params = study.best_params\n",
    "best_value = study.best_value\n",
    "print(\"最优参数：\", best_params)\n",
    "print(\"最优参数下的目标函数值：\", best_value)"
   ],
   "metadata": {
    "collapsed": false
   },
   "id": "a30a9a32d2774872"
  },
  {
   "cell_type": "code",
   "execution_count": null,
   "outputs": [],
   "source": [
    "# 定义转换函数\n",
    "def transform_params(best_params, factors):\n",
    "    best_factors_list = []\n",
    "    for i in range(1, 7):\n",
    "        factor = {\n",
    "            'name': factors[best_params[f'factor{i}_id']],\n",
    "            'weight': best_params[f'factor{i}_weight'],\n",
    "            # Assuming you want to invert the 'ascending' boolean based on user expectation\n",
    "            'ascending': not best_params[f'factor{i}_ascending']\n",
    "        }\n",
    "        best_factors_list.append(factor)\n",
    "    return best_factors_list"
   ],
   "metadata": {
    "collapsed": false
   },
   "id": "d5fe36ee01e06b20"
  },
  {
   "cell_type": "code",
   "execution_count": null,
   "outputs": [],
   "source": [
    "# 调用函数并打印结果\n",
    "transformed_params = transform_params(best_params, factors)\n",
    "transformed_params"
   ],
   "metadata": {
    "collapsed": false
   },
   "id": "fc3c49be0cce7877"
  }
 ],
 "metadata": {
  "kernelspec": {
   "display_name": "Python 3",
   "language": "python",
   "name": "python3"
  },
  "language_info": {
   "codemirror_mode": {
    "name": "ipython",
    "version": 2
   },
   "file_extension": ".py",
   "mimetype": "text/x-python",
   "name": "python",
   "nbconvert_exporter": "python",
   "pygments_lexer": "ipython2",
   "version": "2.7.6"
  }
 },
 "nbformat": 4,
 "nbformat_minor": 5
}
