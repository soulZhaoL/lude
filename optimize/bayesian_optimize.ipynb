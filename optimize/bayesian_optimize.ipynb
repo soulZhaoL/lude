{
 "cells": [
  {
   "cell_type": "code",
   "execution_count": null,
   "outputs": [],
   "source": [
    "# pip install optuna numpy pandas pyarrow arrow scikit-optimize quantstats matplotlib ta -i https://pypi.tuna.tsinghua.edu.cn/simple"
   ],
   "metadata": {
    "collapsed": false
   },
   "id": "a4145f62edcc92e8"
  },
  {
   "cell_type": "code",
   "execution_count": null,
   "outputs": [],
   "source": [
    "import warnings\n",
    "from functools import lru_cache\n",
    "\n",
    "from skopt import gp_minimize\n",
    "from skopt.plots import plot_evaluations, plot_objective, plot_convergence\n",
    "from skopt.space import Integer, Categorical\n",
    "from skopt.utils import use_named_args\n",
    "\n",
    "from more_factor_test_origin_code import cal_cagr\n",
    "\n",
    "warnings.filterwarnings('ignore')  # 忽略警告\n",
    "import pandas as pd\n",
    "\n",
    "pd.set_option('display.max_columns', None)  # 当列太多时不换行\n",
    "df = pd.read_parquet('cb_data.pq')  # 导入转债数据\n",
    "index = pd.read_parquet('index.pq')  # 导入指数数据"
   ],
   "metadata": {
    "collapsed": false
   },
   "id": "a65ed92b-e84a-44c4-8ba8-e909e254e55e"
  },
  {
   "cell_type": "code",
   "execution_count": null,
   "outputs": [],
   "source": [
    "# df.head()"
   ],
   "metadata": {
    "collapsed": false
   },
   "id": "74eddc7400370e33"
  },
  {
   "cell_type": "code",
   "execution_count": null,
   "outputs": [],
   "source": [
    "# 基础设置\n",
    "start_date = '20220801'  # 开始日期\n",
    "end_date = '20240325' # 结束日期"
   ],
   "metadata": {
    "collapsed": false
   },
   "id": "98b267faff4d5476"
  },
  {
   "cell_type": "code",
   "execution_count": null,
   "outputs": [],
   "source": [
    "# 参数空间定义\n",
    "factors = ['pre_close', 'open', 'high', 'low', 'close', 'pct_chg', 'vol',#7\n",
    "           'amount', 'volatility_stk','mod_conv_prem','remain_cap','conv_prem',#12\n",
    "           'turnover','theory_value','amount','option_value','dblow',#17\n",
    "           'theory_bias','ytm','cap_mv_rate','pure_value','bond_prem',#22\n",
    "           'remain_size','theory_conv_prem','pb','pe_ttm','ps_ttm']#27\n",
    "# 定义优化空间\n",
    "space = [\n",
    "    # 因子编号，为了简单起见，这里假设最多有50个因子，你可以根据实际情况调整\n",
    "    Integer(0, len(factors) - 1, name='factor1_id'),\n",
    "    Categorical([1, 2, 3, 4, 5], name='factor1_weight'),\n",
    "    Categorical([True, False], name='factor1_ascending'),\n",
    "\n",
    "    Integer(0, len(factors) - 1, name='factor2_id'),\n",
    "    Categorical([1, 2, 3, 4, 5], name='factor2_weight'),\n",
    "    Categorical([True, False], name='factor2_ascending'),\n",
    "\n",
    "    Integer(0, len(factors) - 1, name='factor3_id'),\n",
    "    Categorical([1, 2, 3, 4, 5], name='factor3_weight'),\n",
    "    Categorical([True, False], name='factor3_ascending'),\n",
    "    \n",
    "    Integer(0, len(factors) - 1, name='factor4_id'),\n",
    "    Categorical([1, 2, 3, 4, 5], name='factor4_weight'),\n",
    "    Categorical([True, False], name='factor4_ascending'),\n",
    "]"
   ],
   "metadata": {
    "collapsed": false
   },
   "id": "fbf7f0de3783e05f"
  },
  {
   "metadata": {},
   "cell_type": "code",
   "outputs": [],
   "execution_count": null,
   "source": [
    "@lru_cache(maxsize=None)\n",
    "def cached_objective(factor1_id, factor2_id, factor3_id, factor1_weight, factor2_weight, factor3_weight, factor1_ascending, factor2_ascending, factor3_ascending):\n",
    "    # 提取因子ID并确保它们是唯一的\n",
    "    factor_ids = [factor1_id, factor2_id, factor3_id]\n",
    "    if len(set(factor_ids)) < 3:\n",
    "        return 1e6  # 假设最大化问题，返回一个很大的负值作为惩罚\n",
    "    rank_factors = []\n",
    "    params = locals()\n",
    "    for i in range(1, 4):\n",
    "        factor_info = {\n",
    "            'name': factors[factor_ids[i - 1]],\n",
    "            'weight': params[f'factor{i}_weight'],\n",
    "            'ascending': params[f'factor{i}_ascending']\n",
    "        }\n",
    "        rank_factors.append(factor_info)\n",
    "    cagr = -cal_cagr(df, start_date, end_date, rank_factors)\n",
    "    print(\"当前迭代的rank_factors:\", rank_factors, \", cagr:\", cagr)\n",
    "    return cagr"
   ],
   "id": "c2ddb326349908df"
  },
  {
   "cell_type": "code",
   "execution_count": null,
   "outputs": [],
   "source": [
    "# 定义一个wrapper函数来调用你的回测函数，以适配贝叶斯优化过程\n",
    "@use_named_args(space)\n",
    "def objective(**params):\n",
    "    return cached_objective(\n",
    "        params['factor1_id'], params['factor2_id'], params['factor3_id'],\n",
    "        params['factor1_weight'], params['factor2_weight'], params['factor3_weight'],\n",
    "        params['factor1_ascending'], params['factor2_ascending'], params['factor3_ascending']\n",
    "    )"
   ],
   "metadata": {
    "collapsed": false
   },
   "id": "db3b5574103029d6"
  },
  {
   "cell_type": "code",
   "execution_count": null,
   "outputs": [],
   "source": [
    "# 运行贝叶斯优化\n",
    "res = gp_minimize(objective, space, n_calls=1000, random_state=1212, n_initial_points=50, n_jobs=-1)\n",
    "# 打印最优参数\n",
    "print(\"最优参数：\", res.x)\n",
    "print(\"最优参数下的目标函数值：\", -res.fun)\n",
    "print(f\"name:{factors[res.x[0]]}, weight:{res.x[1]}, ascending:{res.x[2]}\")\n",
    "print(f\"name:{factors[res.x[3]]}, weight:{res.x[4]}, ascending:{res.x[5]}\")\n",
    "print(f\"name:{factors[res.x[6]]}, weight:{res.x[7]}, ascending:{res.x[8]}\")\n",
    "print(f\"name:{factors[res.x[9]]}, weight:{res.x[10]}, ascending:{res.x[11]}\")"
   ],
   "metadata": {
    "collapsed": false
   },
   "id": "47cc44472f623f6e"
  }
 ],
 "metadata": {
  "kernelspec": {
   "display_name": "Python 3 (ipykernel)",
   "language": "python",
   "name": "python3"
  },
  "language_info": {
   "codemirror_mode": {
    "name": "ipython",
    "version": 3
   },
   "file_extension": ".py",
   "mimetype": "text/x-python",
   "name": "python",
   "nbconvert_exporter": "python",
   "pygments_lexer": "ipython3",
   "version": "3.10.8"
  }
 },
 "nbformat": 4,
 "nbformat_minor": 5
}
