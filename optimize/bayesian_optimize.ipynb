{
 "cells": [
  {
   "cell_type": "code",
   "source": [
    "# pip install optuna numpy pandas pyarrow arrow scikit-optimize quantstats matplotlib ta -i https://pypi.tuna.tsinghua.edu.cn/simple"
   ],
   "metadata": {
    "collapsed": false,
    "ExecuteTime": {
     "end_time": "2025-04-07T15:38:49.027364Z",
     "start_time": "2025-04-07T15:38:49.025818Z"
    }
   },
   "id": "a4145f62edcc92e8",
   "outputs": [],
   "execution_count": 4
  },
  {
   "cell_type": "code",
   "source": [
    "import warnings\n",
    "from functools import lru_cache\n",
    "\n",
    "from skopt import gp_minimize\n",
    "from skopt.plots import plot_evaluations, plot_objective, plot_convergence\n",
    "from skopt.space import Integer, Categorical\n",
    "from skopt.utils import use_named_args\n",
    "\n",
    "from more_factor_test_origin_code import cal_cagr\n",
    "\n",
    "warnings.filterwarnings('ignore')  # 忽略警告\n",
    "import pandas as pd\n",
    "\n",
    "pd.set_option('display.max_columns', None)  # 当列太多时不换行\n",
    "df = pd.read_parquet('cb_data.pq')  # 导入转债数据\n",
    "index = pd.read_parquet('index.pq')  # 导入指数数据"
   ],
   "metadata": {
    "collapsed": false,
    "ExecuteTime": {
     "end_time": "2025-04-07T15:38:49.206002Z",
     "start_time": "2025-04-07T15:38:49.033646Z"
    }
   },
   "id": "a65ed92b-e84a-44c4-8ba8-e909e254e55e",
   "outputs": [],
   "execution_count": 5
  },
  {
   "cell_type": "code",
   "source": [
    "# df.head()"
   ],
   "metadata": {
    "collapsed": false,
    "ExecuteTime": {
     "end_time": "2025-04-07T15:38:49.221043Z",
     "start_time": "2025-04-07T15:38:49.219623Z"
    }
   },
   "id": "74eddc7400370e33",
   "outputs": [],
   "execution_count": 6
  },
  {
   "cell_type": "code",
   "source": [
    "# 基础设置\n",
    "start_date = '20220801'  # 开始日期\n",
    "end_date = '20240325' # 结束日期"
   ],
   "metadata": {
    "collapsed": false,
    "ExecuteTime": {
     "end_time": "2025-04-07T15:38:49.234005Z",
     "start_time": "2025-04-07T15:38:49.232551Z"
    }
   },
   "id": "98b267faff4d5476",
   "outputs": [],
   "execution_count": 7
  },
  {
   "cell_type": "code",
   "source": [
    "# 参数空间定义\n",
    "factors = ['pre_close', 'open', 'high', 'low', 'close', 'pct_chg', 'vol',#7\n",
    "           'amount', 'volatility_stk','mod_conv_prem','remain_cap','conv_prem',#12\n",
    "           'turnover','theory_value','amount','option_value','dblow',#17\n",
    "           'theory_bias','ytm','cap_mv_rate','pure_value','bond_prem',#22\n",
    "           'remain_size','theory_conv_prem','pb','pe_ttm','ps_ttm']#27\n",
    "# 定义优化空间\n",
    "space = [\n",
    "    # 因子编号，为了简单起见，这里假设最多有50个因子，你可以根据实际情况调整\n",
    "    Integer(0, len(factors) - 1, name='factor1_id'),\n",
    "    Categorical([1, 2, 3, 4, 5], name='factor1_weight'),\n",
    "    Categorical([True, False], name='factor1_ascending'),\n",
    "\n",
    "    Integer(0, len(factors) - 1, name='factor2_id'),\n",
    "    Categorical([1, 2, 3, 4, 5], name='factor2_weight'),\n",
    "    Categorical([True, False], name='factor2_ascending'),\n",
    "\n",
    "    Integer(0, len(factors) - 1, name='factor3_id'),\n",
    "    Categorical([1, 2, 3, 4, 5], name='factor3_weight'),\n",
    "    Categorical([True, False], name='factor3_ascending'),\n",
    "    \n",
    "    Integer(0, len(factors) - 1, name='factor4_id'),\n",
    "    Categorical([1, 2, 3, 4, 5], name='factor4_weight'),\n",
    "    Categorical([True, False], name='factor4_ascending'),\n",
    "]"
   ],
   "metadata": {
    "collapsed": false,
    "ExecuteTime": {
     "end_time": "2025-04-07T15:38:49.249784Z",
     "start_time": "2025-04-07T15:38:49.243601Z"
    }
   },
   "id": "fbf7f0de3783e05f",
   "outputs": [],
   "execution_count": 8
  },
  {
   "metadata": {
    "ExecuteTime": {
     "end_time": "2025-04-07T15:38:49.259985Z",
     "start_time": "2025-04-07T15:38:49.257984Z"
    }
   },
   "cell_type": "code",
   "source": [
    "@lru_cache(maxsize=None)\n",
    "def cached_objective(factor1_id, factor2_id, factor3_id, factor1_weight, factor2_weight, factor3_weight, factor1_ascending, factor2_ascending, factor3_ascending):\n",
    "    # 提取因子ID并确保它们是唯一的\n",
    "    factor_ids = [factor1_id, factor2_id, factor3_id]\n",
    "    if len(set(factor_ids)) < 3:\n",
    "        return 1e6  # 假设最大化问题，返回一个很大的负值作为惩罚\n",
    "    rank_factors = []\n",
    "    params = locals()\n",
    "    for i in range(1, 4):\n",
    "        factor_info = {\n",
    "            'name': factors[factor_ids[i - 1]],\n",
    "            'weight': params[f'factor{i}_weight'],\n",
    "            'ascending': params[f'factor{i}_ascending']\n",
    "        }\n",
    "        rank_factors.append(factor_info)\n",
    "    cagr = -cal_cagr(df, start_date, end_date, rank_factors)\n",
    "    print(\"当前迭代的rank_factors:\", rank_factors, \", cagr:\", cagr)\n",
    "    return cagr"
   ],
   "id": "c2ddb326349908df",
   "outputs": [],
   "execution_count": 9
  },
  {
   "cell_type": "code",
   "source": [
    "# 定义一个wrapper函数来调用你的回测函数，以适配贝叶斯优化过程\n",
    "@use_named_args(space)\n",
    "def objective(**params):\n",
    "    return cached_objective(\n",
    "        params['factor1_id'], params['factor2_id'], params['factor3_id'],\n",
    "        params['factor1_weight'], params['factor2_weight'], params['factor3_weight'],\n",
    "        params['factor1_ascending'], params['factor2_ascending'], params['factor3_ascending']\n",
    "    )"
   ],
   "metadata": {
    "collapsed": false,
    "ExecuteTime": {
     "end_time": "2025-04-07T15:38:49.268998Z",
     "start_time": "2025-04-07T15:38:49.267430Z"
    }
   },
   "id": "db3b5574103029d6",
   "outputs": [],
   "execution_count": 10
  },
  {
   "cell_type": "code",
   "source": [
    "# 运行贝叶斯优化\n",
    "res = gp_minimize(objective, space, n_calls=1000, random_state=1212, n_initial_points=50, n_jobs=-1)\n",
    "# 打印最优参数\n",
    "print(\"最优参数：\", res.x)\n",
    "print(\"最优参数下的目标函数值：\", -res.fun)\n",
    "print(f\"name:{factors[res.x[0]]}, weight:{res.x[1]}, ascending:{res.x[2]}\")\n",
    "print(f\"name:{factors[res.x[3]]}, weight:{res.x[4]}, ascending:{res.x[5]}\")\n",
    "print(f\"name:{factors[res.x[6]]}, weight:{res.x[7]}, ascending:{res.x[8]}\")\n",
    "print(f\"name:{factors[res.x[9]]}, weight:{res.x[10]}, ascending:{res.x[11]}\")"
   ],
   "metadata": {
    "collapsed": false,
    "ExecuteTime": {
     "end_time": "2025-04-07T15:41:50.908572Z",
     "start_time": "2025-04-07T15:38:49.276112Z"
    }
   },
   "id": "47cc44472f623f6e",
   "outputs": [
    {
     "name": "stdout",
     "output_type": "stream",
     "text": [
      "当前迭代的rank_factors: [{'name': 'open', 'weight': 1, 'ascending': True}, {'name': 'pb', 'weight': 2, 'ascending': False}, {'name': 'remain_cap', 'weight': 5, 'ascending': True}] , cagr: -0.007640958694329569\n",
      "当前迭代的rank_factors: [{'name': 'cap_mv_rate', 'weight': 5, 'ascending': False}, {'name': 'ps_ttm', 'weight': 5, 'ascending': True}, {'name': 'close', 'weight': 4, 'ascending': False}] , cagr: 0.00337184340274288\n",
      "当前迭代的rank_factors: [{'name': 'amount', 'weight': 2, 'ascending': True}, {'name': 'theory_value', 'weight': 2, 'ascending': True}, {'name': 'pe_ttm', 'weight': 3, 'ascending': True}] , cagr: 0.1078886380401951\n",
      "当前迭代的rank_factors: [{'name': 'theory_bias', 'weight': 4, 'ascending': True}, {'name': 'option_value', 'weight': 1, 'ascending': False}, {'name': 'pure_value', 'weight': 5, 'ascending': True}] , cagr: 0.019095562764401275\n",
      "当前迭代的rank_factors: [{'name': 'theory_value', 'weight': 4, 'ascending': False}, {'name': 'pb', 'weight': 2, 'ascending': False}, {'name': 'pct_chg', 'weight': 5, 'ascending': False}] , cagr: 0.19716506896109287\n",
      "当前迭代的rank_factors: [{'name': 'pe_ttm', 'weight': 2, 'ascending': True}, {'name': 'dblow', 'weight': 4, 'ascending': True}, {'name': 'open', 'weight': 1, 'ascending': True}] , cagr: 0.07984237983040499\n",
      "当前迭代的rank_factors: [{'name': 'theory_conv_prem', 'weight': 4, 'ascending': False}, {'name': 'mod_conv_prem', 'weight': 1, 'ascending': True}, {'name': 'close', 'weight': 4, 'ascending': True}] , cagr: 0.17026256508639281\n",
      "当前迭代的rank_factors: [{'name': 'close', 'weight': 4, 'ascending': True}, {'name': 'theory_value', 'weight': 3, 'ascending': False}, {'name': 'pre_close', 'weight': 4, 'ascending': True}] , cagr: 0.08061855719444266\n",
      "当前迭代的rank_factors: [{'name': 'remain_size', 'weight': 1, 'ascending': True}, {'name': 'pb', 'weight': 5, 'ascending': False}, {'name': 'turnover', 'weight': 2, 'ascending': False}] , cagr: 0.018887417259253803\n",
      "当前迭代的rank_factors: [{'name': 'low', 'weight': 4, 'ascending': True}, {'name': 'amount', 'weight': 4, 'ascending': True}, {'name': 'mod_conv_prem', 'weight': 4, 'ascending': True}] , cagr: 0.1849327375710893\n",
      "当前迭代的rank_factors: [{'name': 'pct_chg', 'weight': 4, 'ascending': False}, {'name': 'ytm', 'weight': 2, 'ascending': False}, {'name': 'amount', 'weight': 3, 'ascending': True}] , cagr: 0.030155353521058914\n",
      "当前迭代的rank_factors: [{'name': 'ytm', 'weight': 2, 'ascending': True}, {'name': 'remain_cap', 'weight': 2, 'ascending': False}, {'name': 'vol', 'weight': 1, 'ascending': True}] , cagr: 0.009980859695034705\n",
      "当前迭代的rank_factors: [{'name': 'conv_prem', 'weight': 3, 'ascending': True}, {'name': 'mod_conv_prem', 'weight': 1, 'ascending': True}, {'name': 'option_value', 'weight': 4, 'ascending': False}] , cagr: 0.038774097739015745\n",
      "当前迭代的rank_factors: [{'name': 'high', 'weight': 2, 'ascending': True}, {'name': 'open', 'weight': 4, 'ascending': False}, {'name': 'cap_mv_rate', 'weight': 1, 'ascending': False}] , cagr: 0.03872487585551576\n",
      "当前迭代的rank_factors: [{'name': 'vol', 'weight': 1, 'ascending': True}, {'name': 'theory_bias', 'weight': 5, 'ascending': True}, {'name': 'amount', 'weight': 1, 'ascending': True}] , cagr: 0.1009703265533034\n",
      "当前迭代的rank_factors: [{'name': 'low', 'weight': 4, 'ascending': True}, {'name': 'high', 'weight': 4, 'ascending': False}, {'name': 'cap_mv_rate', 'weight': 2, 'ascending': False}] , cagr: 0.16435519208754645\n",
      "当前迭代的rank_factors: [{'name': 'amount', 'weight': 1, 'ascending': True}, {'name': 'dblow', 'weight': 1, 'ascending': False}, {'name': 'cap_mv_rate', 'weight': 5, 'ascending': False}] , cagr: -0.012314510785828459\n",
      "当前迭代的rank_factors: [{'name': 'volatility_stk', 'weight': 1, 'ascending': True}, {'name': 'theory_conv_prem', 'weight': 3, 'ascending': False}, {'name': 'high', 'weight': 5, 'ascending': True}] , cagr: 0.17940063732278566\n",
      "当前迭代的rank_factors: [{'name': 'theory_bias', 'weight': 1, 'ascending': False}, {'name': 'theory_conv_prem', 'weight': 5, 'ascending': False}, {'name': 'pb', 'weight': 1, 'ascending': False}] , cagr: -0.03639660984491111\n",
      "当前迭代的rank_factors: [{'name': 'turnover', 'weight': 3, 'ascending': True}, {'name': 'vol', 'weight': 2, 'ascending': False}, {'name': 'ytm', 'weight': 3, 'ascending': True}] , cagr: -0.0313400492405258\n",
      "当前迭代的rank_factors: [{'name': 'remain_cap', 'weight': 2, 'ascending': True}, {'name': 'pre_close', 'weight': 5, 'ascending': False}, {'name': 'remain_size', 'weight': 3, 'ascending': False}] , cagr: -0.0033629981490685967\n",
      "当前迭代的rank_factors: [{'name': 'option_value', 'weight': 5, 'ascending': False}, {'name': 'amount', 'weight': 4, 'ascending': False}, {'name': 'theory_conv_prem', 'weight': 3, 'ascending': False}] , cagr: 0.0855877754137212\n",
      "当前迭代的rank_factors: [{'name': 'theory_conv_prem', 'weight': 2, 'ascending': True}, {'name': 'cap_mv_rate', 'weight': 4, 'ascending': False}, {'name': 'dblow', 'weight': 1, 'ascending': True}] , cagr: 0.02718768873383337\n",
      "当前迭代的rank_factors: [{'name': 'remain_cap', 'weight': 5, 'ascending': False}, {'name': 'pct_chg', 'weight': 2, 'ascending': False}, {'name': 'volatility_stk', 'weight': 5, 'ascending': True}] , cagr: -0.0806168501162583\n",
      "当前迭代的rank_factors: [{'name': 'theory_conv_prem', 'weight': 3, 'ascending': False}, {'name': 'amount', 'weight': 2, 'ascending': True}, {'name': 'pe_ttm', 'weight': 5, 'ascending': False}] , cagr: -0.08847210597008237\n",
      "当前迭代的rank_factors: [{'name': 'pct_chg', 'weight': 3, 'ascending': True}, {'name': 'close', 'weight': 5, 'ascending': True}, {'name': 'amount', 'weight': 3, 'ascending': False}] , cagr: 0.2791426095946845\n",
      "当前迭代的rank_factors: [{'name': 'pb', 'weight': 5, 'ascending': False}, {'name': 'pure_value', 'weight': 2, 'ascending': False}, {'name': 'dblow', 'weight': 1, 'ascending': True}] , cagr: 0.052982976054885\n",
      "当前迭代的rank_factors: [{'name': 'pure_value', 'weight': 3, 'ascending': True}, {'name': 'remain_cap', 'weight': 2, 'ascending': False}, {'name': 'open', 'weight': 5, 'ascending': True}] , cagr: 0.011142453596352353\n",
      "当前迭代的rank_factors: [{'name': 'high', 'weight': 4, 'ascending': True}, {'name': 'pre_close', 'weight': 2, 'ascending': True}, {'name': 'theory_bias', 'weight': 1, 'ascending': True}] , cagr: 0.0638339989672787\n",
      "当前迭代的rank_factors: [{'name': 'mod_conv_prem', 'weight': 3, 'ascending': True}, {'name': 'pre_close', 'weight': 1, 'ascending': True}, {'name': 'volatility_stk', 'weight': 4, 'ascending': True}] , cagr: 0.1466994591259002\n",
      "当前迭代的rank_factors: [{'name': 'amount', 'weight': 1, 'ascending': False}, {'name': 'pe_ttm', 'weight': 2, 'ascending': False}, {'name': 'open', 'weight': 4, 'ascending': False}] , cagr: 0.014578293778835016\n",
      "当前迭代的rank_factors: [{'name': 'cap_mv_rate', 'weight': 1, 'ascending': False}, {'name': 'mod_conv_prem', 'weight': 1, 'ascending': True}, {'name': 'bond_prem', 'weight': 2, 'ascending': True}] , cagr: 0.1581680138990995\n",
      "当前迭代的rank_factors: [{'name': 'pure_value', 'weight': 2, 'ascending': True}, {'name': 'option_value', 'weight': 1, 'ascending': False}, {'name': 'high', 'weight': 5, 'ascending': False}] , cagr: -0.02632647697450441\n",
      "当前迭代的rank_factors: [{'name': 'conv_prem', 'weight': 1, 'ascending': False}, {'name': 'remain_cap', 'weight': 3, 'ascending': False}, {'name': 'close', 'weight': 2, 'ascending': False}] , cagr: -0.011387929585940038\n",
      "当前迭代的rank_factors: [{'name': 'volatility_stk', 'weight': 4, 'ascending': False}, {'name': 'open', 'weight': 1, 'ascending': True}, {'name': 'low', 'weight': 1, 'ascending': False}] , cagr: -0.03742556071940273\n",
      "当前迭代的rank_factors: [{'name': 'ytm', 'weight': 2, 'ascending': True}, {'name': 'close', 'weight': 3, 'ascending': False}, {'name': 'vol', 'weight': 2, 'ascending': True}] , cagr: -0.038136106111934076\n",
      "当前迭代的rank_factors: [{'name': 'turnover', 'weight': 3, 'ascending': False}, {'name': 'pe_ttm', 'weight': 1, 'ascending': True}, {'name': 'pure_value', 'weight': 2, 'ascending': True}] , cagr: 0.08826088016357403\n",
      "当前迭代的rank_factors: [{'name': 'mod_conv_prem', 'weight': 4, 'ascending': False}, {'name': 'pct_chg', 'weight': 5, 'ascending': False}, {'name': 'open', 'weight': 4, 'ascending': True}] , cagr: 0.04998592450985884\n",
      "当前迭代的rank_factors: [{'name': 'theory_value', 'weight': 2, 'ascending': True}, {'name': 'vol', 'weight': 5, 'ascending': True}, {'name': 'pure_value', 'weight': 5, 'ascending': False}] , cagr: 0.13691259987402127\n",
      "当前迭代的rank_factors: [{'name': 'conv_prem', 'weight': np.int64(2), 'ascending': np.True_}, {'name': 'low', 'weight': np.int64(5), 'ascending': np.False_}, {'name': 'bond_prem', 'weight': np.int64(3), 'ascending': np.False_}] , cagr: -0.029691695468780255\n",
      "当前迭代的rank_factors: [{'name': 'theory_value', 'weight': np.int64(2), 'ascending': np.True_}, {'name': 'conv_prem', 'weight': np.int64(2), 'ascending': np.False_}, {'name': 'option_value', 'weight': np.int64(1), 'ascending': np.True_}] , cagr: 0.09775198458652512\n",
      "当前迭代的rank_factors: [{'name': 'turnover', 'weight': np.int64(2), 'ascending': np.True_}, {'name': 'low', 'weight': np.int64(5), 'ascending': np.False_}, {'name': 'bond_prem', 'weight': np.int64(3), 'ascending': np.False_}] , cagr: -0.030226171465618235\n",
      "当前迭代的rank_factors: [{'name': 'open', 'weight': np.int64(1), 'ascending': np.True_}, {'name': 'pb', 'weight': np.int64(5), 'ascending': np.False_}, {'name': 'volatility_stk', 'weight': np.int64(5), 'ascending': np.False_}] , cagr: -0.009350266725994372\n",
      "当前迭代的rank_factors: [{'name': 'pct_chg', 'weight': np.int64(5), 'ascending': np.True_}, {'name': 'amount', 'weight': np.int64(2), 'ascending': np.False_}, {'name': 'mod_conv_prem', 'weight': np.int64(3), 'ascending': np.True_}] , cagr: 0.3255884907812636\n",
      "当前迭代的rank_factors: [{'name': 'volatility_stk', 'weight': np.int64(1), 'ascending': np.False_}, {'name': 'vol', 'weight': np.int64(3), 'ascending': np.False_}, {'name': 'high', 'weight': np.int64(5), 'ascending': np.True_}] , cagr: 0.17076697653788298\n",
      "当前迭代的rank_factors: [{'name': 'volatility_stk', 'weight': np.int64(1), 'ascending': np.False_}, {'name': 'high', 'weight': np.int64(2), 'ascending': np.False_}, {'name': 'amount', 'weight': np.int64(5), 'ascending': np.False_}] , cagr: 0.07987261621712405\n",
      "当前迭代的rank_factors: [{'name': 'volatility_stk', 'weight': np.int64(1), 'ascending': np.True_}, {'name': 'amount', 'weight': np.int64(1), 'ascending': np.False_}, {'name': 'low', 'weight': np.int64(1), 'ascending': np.False_}] , cagr: 0.05687842964513157\n",
      "当前迭代的rank_factors: [{'name': 'remain_cap', 'weight': np.int64(2), 'ascending': np.True_}, {'name': 'bond_prem', 'weight': np.int64(5), 'ascending': np.False_}, {'name': 'option_value', 'weight': np.int64(3), 'ascending': np.False_}] , cagr: -0.015424054126419673\n",
      "当前迭代的rank_factors: [{'name': 'mod_conv_prem', 'weight': np.int64(5), 'ascending': np.True_}, {'name': 'theory_conv_prem', 'weight': np.int64(1), 'ascending': np.True_}, {'name': 'cap_mv_rate', 'weight': np.int64(4), 'ascending': np.False_}] , cagr: 0.0455568707513887\n",
      "当前迭代的rank_factors: [{'name': 'amount', 'weight': np.int64(2), 'ascending': np.True_}, {'name': 'pct_chg', 'weight': np.int64(5), 'ascending': np.False_}, {'name': 'bond_prem', 'weight': np.int64(3), 'ascending': np.False_}] , cagr: 0.028121754335959537\n",
      "当前迭代的rank_factors: [{'name': 'pct_chg', 'weight': np.int64(2), 'ascending': np.True_}, {'name': 'open', 'weight': np.int64(1), 'ascending': np.True_}, {'name': 'pe_ttm', 'weight': np.int64(1), 'ascending': np.True_}] , cagr: 0.35497271646914474\n",
      "当前迭代的rank_factors: [{'name': 'amount', 'weight': np.int64(2), 'ascending': np.True_}, {'name': 'pct_chg', 'weight': np.int64(5), 'ascending': np.False_}, {'name': 'pure_value', 'weight': np.int64(3), 'ascending': np.False_}] , cagr: 0.15072358391581175\n",
      "当前迭代的rank_factors: [{'name': 'volatility_stk', 'weight': np.int64(1), 'ascending': np.False_}, {'name': 'remain_cap', 'weight': np.int64(3), 'ascending': np.False_}, {'name': 'close', 'weight': np.int64(5), 'ascending': np.True_}] , cagr: 0.0679643574390586\n",
      "当前迭代的rank_factors: [{'name': 'pct_chg', 'weight': np.int64(5), 'ascending': np.True_}, {'name': 'dblow', 'weight': np.int64(2), 'ascending': np.False_}, {'name': 'volatility_stk', 'weight': np.int64(3), 'ascending': np.True_}] , cagr: 0.2203833501537914\n",
      "当前迭代的rank_factors: [{'name': 'volatility_stk', 'weight': np.int64(1), 'ascending': np.True_}, {'name': 'turnover', 'weight': np.int64(2), 'ascending': np.False_}, {'name': 'close', 'weight': np.int64(5), 'ascending': np.True_}] , cagr: 0.2053513301847787\n",
      "当前迭代的rank_factors: [{'name': 'volatility_stk', 'weight': np.int64(1), 'ascending': np.False_}, {'name': 'turnover', 'weight': np.int64(2), 'ascending': np.False_}, {'name': 'pct_chg', 'weight': np.int64(5), 'ascending': np.True_}] , cagr: 0.24848116775101514\n",
      "当前迭代的rank_factors: [{'name': 'open', 'weight': np.int64(1), 'ascending': np.True_}, {'name': 'pb', 'weight': np.int64(2), 'ascending': np.False_}, {'name': 'mod_conv_prem', 'weight': np.int64(5), 'ascending': np.True_}] , cagr: 0.037727619661026446\n",
      "当前迭代的rank_factors: [{'name': 'theory_conv_prem', 'weight': np.int64(5), 'ascending': np.False_}, {'name': 'amount', 'weight': np.int64(3), 'ascending': np.True_}, {'name': 'pe_ttm', 'weight': np.int64(1), 'ascending': np.True_}] , cagr: 0.21819687252524966\n",
      "当前迭代的rank_factors: [{'name': 'theory_conv_prem', 'weight': np.int64(3), 'ascending': np.False_}, {'name': 'option_value', 'weight': np.int64(3), 'ascending': np.True_}, {'name': 'pe_ttm', 'weight': np.int64(5), 'ascending': np.True_}] , cagr: 0.11220386191426424\n",
      "当前迭代的rank_factors: [{'name': 'theory_conv_prem', 'weight': np.int64(3), 'ascending': np.False_}, {'name': 'amount', 'weight': np.int64(3), 'ascending': np.True_}, {'name': 'pe_ttm', 'weight': np.int64(5), 'ascending': np.True_}] , cagr: 0.07019592337509062\n",
      "当前迭代的rank_factors: [{'name': 'theory_conv_prem', 'weight': np.int64(3), 'ascending': np.False_}, {'name': 'option_value', 'weight': np.int64(2), 'ascending': np.True_}, {'name': 'pe_ttm', 'weight': np.int64(5), 'ascending': np.False_}] , cagr: -0.07846803091615295\n",
      "当前迭代的rank_factors: [{'name': 'volatility_stk', 'weight': np.int64(1), 'ascending': np.False_}, {'name': 'conv_prem', 'weight': np.int64(2), 'ascending': np.False_}, {'name': 'close', 'weight': np.int64(5), 'ascending': np.True_}] , cagr: 0.059361752796982636\n",
      "当前迭代的rank_factors: [{'name': 'theory_conv_prem', 'weight': np.int64(5), 'ascending': np.False_}, {'name': 'amount', 'weight': np.int64(2), 'ascending': np.True_}, {'name': 'pe_ttm', 'weight': np.int64(1), 'ascending': np.False_}] , cagr: -0.022760782404770197\n",
      "当前迭代的rank_factors: [{'name': 'theory_conv_prem', 'weight': np.int64(5), 'ascending': np.False_}, {'name': 'theory_value', 'weight': np.int64(2), 'ascending': np.True_}, {'name': 'pe_ttm', 'weight': np.int64(1), 'ascending': np.False_}] , cagr: 0.020226097993532255\n",
      "当前迭代的rank_factors: [{'name': 'theory_conv_prem', 'weight': np.int64(5), 'ascending': np.False_}, {'name': 'amount', 'weight': np.int64(2), 'ascending': np.True_}, {'name': 'pb', 'weight': np.int64(5), 'ascending': np.True_}] , cagr: 0.1821332210223474\n",
      "当前迭代的rank_factors: [{'name': 'remain_cap', 'weight': np.int64(5), 'ascending': np.False_}, {'name': 'option_value', 'weight': np.int64(2), 'ascending': np.False_}, {'name': 'remain_size', 'weight': np.int64(5), 'ascending': np.False_}] , cagr: 0.005539484222587654\n",
      "当前迭代的rank_factors: [{'name': 'ytm', 'weight': np.int64(2), 'ascending': np.True_}, {'name': 'close', 'weight': np.int64(3), 'ascending': np.False_}, {'name': 'pct_chg', 'weight': np.int64(2), 'ascending': np.True_}] , cagr: 0.07644200120348588\n",
      "当前迭代的rank_factors: [{'name': 'theory_conv_prem', 'weight': np.int64(5), 'ascending': np.False_}, {'name': 'amount', 'weight': np.int64(3), 'ascending': np.True_}, {'name': 'pe_ttm', 'weight': np.int64(5), 'ascending': np.True_}] , cagr: 0.09510485635866017\n",
      "当前迭代的rank_factors: [{'name': 'turnover', 'weight': np.int64(2), 'ascending': np.True_}, {'name': 'theory_bias', 'weight': np.int64(5), 'ascending': np.False_}, {'name': 'close', 'weight': np.int64(3), 'ascending': np.False_}] , cagr: -0.08933278166444869\n",
      "当前迭代的rank_factors: [{'name': 'turnover', 'weight': np.int64(2), 'ascending': np.True_}, {'name': 'open', 'weight': np.int64(5), 'ascending': np.False_}, {'name': 'bond_prem', 'weight': np.int64(3), 'ascending': np.False_}] , cagr: -0.040606124552794665\n",
      "当前迭代的rank_factors: [{'name': 'theory_conv_prem', 'weight': np.int64(5), 'ascending': np.False_}, {'name': 'amount', 'weight': np.int64(2), 'ascending': np.True_}, {'name': 'ps_ttm', 'weight': np.int64(1), 'ascending': np.False_}] , cagr: 0.13960984610947424\n",
      "当前迭代的rank_factors: [{'name': 'amount', 'weight': np.int64(2), 'ascending': np.True_}, {'name': 'vol', 'weight': np.int64(2), 'ascending': np.False_}, {'name': 'remain_size', 'weight': np.int64(1), 'ascending': np.False_}] , cagr: 0.01264303243512599\n",
      "当前迭代的rank_factors: [{'name': 'remain_size', 'weight': np.int64(3), 'ascending': np.False_}, {'name': 'option_value', 'weight': np.int64(3), 'ascending': np.True_}, {'name': 'pe_ttm', 'weight': np.int64(5), 'ascending': np.True_}] , cagr: -0.00322342862757119\n",
      "当前迭代的rank_factors: [{'name': 'volatility_stk', 'weight': np.int64(1), 'ascending': np.True_}, {'name': 'dblow', 'weight': np.int64(1), 'ascending': np.False_}, {'name': 'option_value', 'weight': np.int64(5), 'ascending': np.False_}] , cagr: -0.02382164332524339\n",
      "当前迭代的rank_factors: [{'name': 'theory_conv_prem', 'weight': np.int64(3), 'ascending': np.False_}, {'name': 'ytm', 'weight': np.int64(3), 'ascending': np.True_}, {'name': 'ps_ttm', 'weight': np.int64(5), 'ascending': np.True_}] , cagr: -0.005444040996061439\n",
      "当前迭代的rank_factors: [{'name': 'cap_mv_rate', 'weight': np.int64(3), 'ascending': np.True_}, {'name': 'pct_chg', 'weight': np.int64(4), 'ascending': np.True_}, {'name': 'pure_value', 'weight': np.int64(5), 'ascending': np.True_}] , cagr: 0.17006568869396044\n",
      "当前迭代的rank_factors: [{'name': 'pure_value', 'weight': np.int64(3), 'ascending': np.True_}, {'name': 'mod_conv_prem', 'weight': np.int64(4), 'ascending': np.True_}, {'name': 'bond_prem', 'weight': np.int64(5), 'ascending': np.True_}] , cagr: 0.11739030797828887\n",
      "当前迭代的rank_factors: [{'name': 'dblow', 'weight': np.int64(2), 'ascending': np.True_}, {'name': 'pct_chg', 'weight': np.int64(3), 'ascending': np.False_}, {'name': 'volatility_stk', 'weight': np.int64(2), 'ascending': np.True_}] , cagr: 0.11063234599058902\n",
      "当前迭代的rank_factors: [{'name': 'theory_bias', 'weight': np.int64(2), 'ascending': np.True_}, {'name': 'vol', 'weight': np.int64(3), 'ascending': np.False_}, {'name': 'mod_conv_prem', 'weight': np.int64(2), 'ascending': np.True_}] , cagr: 0.11856624315979336\n"
     ]
    },
    {
     "name": "stderr",
     "output_type": "stream",
     "text": [
      "\n",
      "KeyboardInterrupt\n",
      "\n"
     ]
    }
   ],
   "execution_count": 11
  }
 ],
 "metadata": {
  "kernelspec": {
   "display_name": "Python 3 (ipykernel)",
   "language": "python",
   "name": "python3"
  },
  "language_info": {
   "codemirror_mode": {
    "name": "ipython",
    "version": 3
   },
   "file_extension": ".py",
   "mimetype": "text/x-python",
   "name": "python",
   "nbconvert_exporter": "python",
   "pygments_lexer": "ipython3",
   "version": "3.10.8"
  }
 },
 "nbformat": 4,
 "nbformat_minor": 5
}
