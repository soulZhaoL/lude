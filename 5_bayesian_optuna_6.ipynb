{
 "cells": [
  {
   "cell_type": "code",
   "execution_count": null,
   "id": "initial_id",
   "metadata": {
    "collapsed": true
   },
   "outputs": [],
   "source": [
    "import optuna\n",
    "import pandas as pd\n",
    "\n",
    "# 你之前的导入和数据加载代码...\n",
    "from more_factor_test_origin_code_5 import cal_cagr\n",
    "df = pd.read_parquet('cb_data.pq')\n",
    "index = pd.read_parquet('index.pq')"
   ]
  },
  {
   "cell_type": "code",
   "execution_count": null,
   "outputs": [],
   "source": [
    "# 基础设置\n",
    "start_date = '20220801'  # 开始日期\n",
    "end_date = '20240325' # 结束日期"
   ],
   "metadata": {
    "collapsed": false
   },
   "id": "566281d74fc59f25"
  },
  {
   "cell_type": "code",
   "execution_count": null,
   "outputs": [],
   "source": [
    "# 参数空间定义\n",
    "factors = ['pre_close', 'open', 'high', 'low', 'close', 'pct_chg', 'vol',#7\n",
    "           'amount', 'volatility_stk','mod_conv_prem','remain_cap','conv_prem',#12\n",
    "           'turnover','theory_value','amount','option_value','dblow',#17\n",
    "           'theory_bias','ytm','cap_mv_rate','pure_value','bond_prem',#22\n",
    "           'remain_size','theory_conv_prem','pb','pe_ttm','ps_ttm']#27"
   ],
   "metadata": {
    "collapsed": false
   },
   "id": "cf9438051c3529c3"
  },
  {
   "cell_type": "code",
   "execution_count": null,
   "outputs": [],
   "source": [
    "def objective(trial):\n",
    "    # 使用 Optuna 定义参数空间\n",
    "    factor_ids = [trial.suggest_int(f'factor{i}_id', 0, len(factors) - 1) for i in range(1, 7)]\n",
    "    if len(set(factor_ids)) < 6:\n",
    "        return -1e6  # 如果因子 ID 重复，则返回一个大的数值作为惩罚\n",
    "    \n",
    "    \n",
    "    rank_factors = []\n",
    "    for i in range(1, 7):\n",
    "        factor_info = {\n",
    "            'name': factors[factor_ids[i - 1]],\n",
    "            'weight': trial.suggest_categorical(f'factor{i}_weight', [1, 2, 3, 4, 5]),\n",
    "            'ascending': trial.suggest_categorical(f'factor{i}_ascending', [True, False])\n",
    "        }\n",
    "        rank_factors.append(factor_info)\n",
    "    \n",
    "    return cal_cagr(df, start_date, end_date, rank_factors)"
   ],
   "metadata": {
    "collapsed": false
   },
   "id": "556cf10621490d7f"
  },
  {
   "cell_type": "code",
   "execution_count": null,
   "outputs": [],
   "source": [
    "study = optuna.create_study(sampler=optuna.samplers.TPESampler(seed=5555), direction='maximize')\n",
    "study.optimize(objective, n_trials=2000)"
   ],
   "metadata": {
    "collapsed": false
   },
   "id": "d86963b56951aef1"
  },
  {
   "cell_type": "code",
   "execution_count": null,
   "outputs": [],
   "source": [
    "# 打印最优参数\n",
    "best_params = study.best_params\n",
    "best_value = study.best_value\n",
    "print(\"最优参数：\", best_params)\n",
    "print(\"最优参数下的目标函数值：\", best_value)"
   ],
   "metadata": {
    "collapsed": false
   },
   "id": "a30a9a32d2774872"
  },
  {
   "cell_type": "code",
   "execution_count": null,
   "outputs": [],
   "source": [
    "# 定义转换函数\n",
    "def transform_params(best_params, factors):\n",
    "    best_factors_list = []\n",
    "    for i in range(1, 7):\n",
    "        factor = {\n",
    "            'name': factors[best_params[f'factor{i}_id']],\n",
    "            'weight': best_params[f'factor{i}_weight'],\n",
    "            # Assuming you want to invert the 'ascending' boolean based on user expectation\n",
    "            'ascending': not best_params[f'factor{i}_ascending']\n",
    "        }\n",
    "        best_factors_list.append(factor)\n",
    "    return best_factors_list"
   ],
   "metadata": {
    "collapsed": false
   },
   "id": "d5fe36ee01e06b20"
  },
  {
   "cell_type": "code",
   "execution_count": null,
   "outputs": [],
   "source": [
    "# 调用函数并打印结果\n",
    "transformed_params = transform_params(best_params, factors)\n",
    "transformed_params"
   ],
   "metadata": {
    "collapsed": false
   },
   "id": "fc3c49be0cce7877"
  }
 ],
 "metadata": {
  "kernelspec": {
   "display_name": "Python 3",
   "language": "python",
   "name": "python3"
  },
  "language_info": {
   "codemirror_mode": {
    "name": "ipython",
    "version": 2
   },
   "file_extension": ".py",
   "mimetype": "text/x-python",
   "name": "python",
   "nbconvert_exporter": "python",
   "pygments_lexer": "ipython2",
   "version": "2.7.6"
  }
 },
 "nbformat": 4,
 "nbformat_minor": 5
}
