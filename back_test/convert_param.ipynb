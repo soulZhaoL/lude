{
 "cells": [
  {
   "cell_type": "code",
   "execution_count": 1,
   "id": "cf9438051c3529c3",
   "metadata": {
    "collapsed": false,
    "ExecuteTime": {
     "end_time": "2024-04-13T15:28:50.290797Z",
     "start_time": "2024-04-13T15:28:50.248643Z"
    }
   },
   "outputs": [],
   "source": [
    "# 参数空间定义\n",
    "factors = ['pre_close', 'open', 'high', 'low', 'close', 'pct_chg', 'vol',  #7\n",
    "           'amount', 'volatility_stk', 'mod_conv_prem', 'remain_cap', 'conv_prem',  #12\n",
    "           'turnover', 'theory_value', 'amount', 'option_value', 'dblow',  #17\n",
    "           'theory_bias', 'ytm', 'cap_mv_rate', 'pure_value', 'bond_prem',  #22\n",
    "           'remain_size', 'theory_conv_prem', 'pb', 'pe_ttm', 'ps_ttm']  #27"
   ]
  },
  {
   "cell_type": "code",
   "execution_count": 2,
   "outputs": [],
   "source": [
    "import itertools\n",
    "\n",
    "def flexible_decode_combination(encoded_params):\n",
    "    # 识别因子数量\n",
    "    num_factors = 0\n",
    "    while f'factor{num_factors+1}_weight' in encoded_params:\n",
    "        num_factors += 1\n",
    "\n",
    "    # 因子索引组合的编码映射\n",
    "    combinations = list(itertools.combinations(range(len(factors)), num_factors))\n",
    "    # 解码因子组合索引\n",
    "    factor_indices = combinations[encoded_params['encoded_id']]\n",
    "    \n",
    "    # 构建详细的因子组合列表\n",
    "    rank_factors = []\n",
    "    for i, index in enumerate(factor_indices):\n",
    "        factor_info = {\n",
    "            'name': factors[index],\n",
    "            'weight': encoded_params[f'factor{i+1}_weight'],\n",
    "            'ascending': encoded_params[f'factor{i+1}_ascending']\n",
    "        }\n",
    "        rank_factors.append(factor_info)\n",
    "    \n",
    "    return rank_factors"
   ],
   "metadata": {
    "collapsed": false,
    "ExecuteTime": {
     "end_time": "2024-04-13T15:28:50.291055Z",
     "start_time": "2024-04-13T15:28:50.260734Z"
    }
   },
   "id": "311876eb99d774fe"
  },
  {
   "cell_type": "code",
   "execution_count": 3,
   "outputs": [
    {
     "name": "stdout",
     "output_type": "stream",
     "text": [
      "[{'name': 'option_value', 'weight': 3, 'ascending': False}, {'name': 'ytm', 'weight': 1, 'ascending': True}, {'name': 'remain_size', 'weight': 1, 'ascending': False}]\n"
     ]
    }
   ],
   "source": [
    "encoded_params = {'encoded_id': 2727, 'factor1_weight': 3, 'factor1_ascending': False, 'factor2_weight': 1, 'factor2_ascending': True, 'factor3_weight': 1, 'factor3_ascending': False}\n",
    "# 解码并打印结果\n",
    "decoded_combination = flexible_decode_combination(encoded_params)\n",
    "print(decoded_combination)"
   ],
   "metadata": {
    "collapsed": false,
    "ExecuteTime": {
     "end_time": "2024-04-13T15:28:50.344086Z",
     "start_time": "2024-04-13T15:28:50.266570Z"
    }
   },
   "id": "da4046435207705"
  }
 ],
 "metadata": {
  "kernelspec": {
   "display_name": "Python 3 (ipykernel)",
   "language": "python",
   "name": "python3"
  },
  "language_info": {
   "codemirror_mode": {
    "name": "ipython",
    "version": 3
   },
   "file_extension": ".py",
   "mimetype": "text/x-python",
   "name": "python",
   "nbconvert_exporter": "python",
   "pygments_lexer": "ipython3",
   "version": "3.10.14"
  }
 },
 "nbformat": 4,
 "nbformat_minor": 5
}
