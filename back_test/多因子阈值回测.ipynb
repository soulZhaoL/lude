{
 "cells": [
  {
   "cell_type": "code",
   "execution_count": 1,
   "metadata": {
    "ExecuteTime": {
     "end_time": "2024-04-13T05:08:29.404326Z",
     "start_time": "2024-04-13T05:08:26.342192Z"
    }
   },
   "outputs": [
    {
     "data": {
      "text/plain": "                      name  pre_close    open    high     low   close  \\\ncode      trade_date                                                    \n110030.SH 2018-01-02  格力转债     105.28  105.30  106.18  105.30  105.40   \n          2018-01-03  格力转债     105.40  105.40  105.72  105.40  105.46   \n          2018-01-04  格力转债     105.46  105.50  105.73  105.30  105.60   \n          2018-01-05  格力转债     105.60  106.08  109.86  105.71  109.34   \n          2018-01-08  格力转债     109.34  109.31  111.89  108.73  109.76   \n\n                       pct_chg      vol     amount  volatility   code_stk  \\\ncode      trade_date                                                        \n110030.SH 2018-01-02  0.001140   9075.0   958.0068    0.103224  600185.SH   \n          2018-01-03  0.000569   9783.0  1031.8907    0.103226  600185.SH   \n          2018-01-04  0.001328   8676.0   915.2612    0.103057  600185.SH   \n          2018-01-05  0.035417  47628.0  5166.3701    0.109005  600185.SH   \n          2018-01-08  0.003841  31285.0  3455.6852    0.108986  600185.SH   \n\n                     name_stk  pre_close_stk  open_stk  high_stk  low_stk  \\\ncode      trade_date                                                        \n110030.SH 2018-01-02     格力地产           5.68      5.66      5.89     5.66   \n          2018-01-03     格力地产           5.77      5.74      5.83     5.70   \n          2018-01-04     格力地产           5.79      5.78      5.84     5.74   \n          2018-01-05     格力地产           5.80      5.82      6.26     5.82   \n          2018-01-08     格力地产           6.15      6.13      6.44     6.08   \n\n                      close_stk  pct_chg_stk    vol_stk  amount_stk   pe_ttm  \\\ncode      trade_date                                                           \n110030.SH 2018-01-02       5.77     0.015845  123240.77   71342.620  18.2321   \n          2018-01-03       5.79     0.003466  112470.22   64885.787  18.2952   \n          2018-01-04       5.80     0.001727   86917.89   50287.495  18.3269   \n          2018-01-05       6.15     0.060345  506597.49  307682.959  19.4328   \n          2018-01-08       6.27     0.019512  565535.31  356757.949  19.8120   \n\n                          pb  ps_ttm  dv_ratio  total_share  float_share  \\\ncode      trade_date                                                       \n110030.SH 2018-01-02  1.5625  3.6100  0.003466  206007.7575  206007.7575   \n          2018-01-03  1.5679  3.6225  0.003454  206007.7575  206007.7575   \n          2018-01-04  1.5706  3.6288  0.003448  206007.9508  206007.9508   \n          2018-01-05  1.6654  3.8477  0.003252  206007.9508  206007.9508   \n          2018-01-08  1.6979  3.9228  0.003190  206007.9508  206007.9508   \n\n                        total_mv     circ_mv  debt_to_assets  volatility_stk  \\\ncode      trade_date                                                           \n110030.SH 2018-01-02  118.866476  118.866476        0.719948        0.294814   \n          2018-01-03  119.278492  119.278492        0.719948        0.294711   \n          2018-01-04  119.484611  119.484611        0.719948        0.294694   \n          2018-01-05  126.694890  126.694890        0.719948        0.300755   \n          2018-01-08  129.166985  129.166985        0.719948        0.301309   \n\n                      pct_chg_5  pct_chg_5_stk    bias_5 is_call  conv_price  \\\ncode      trade_date                                                           \n110030.SH 2018-01-02  -0.001421       0.032200 -0.033621                7.24   \n          2018-01-03   0.000949       0.032086 -0.031136                7.24   \n          2018-01-04   0.007345       0.048825 -0.041479                7.24   \n          2018-01-05   0.045815       0.110108 -0.064293                7.24   \n          2018-01-08   0.042553       0.103873 -0.061320                7.24   \n\n                      conv_value  conv_prem       dblow  issue_size  \\\ncode      trade_date                                                  \n110030.SH 2018-01-02   79.696133   0.322523  137.652340         9.8   \n          2018-01-03   79.972376   0.318705  137.330535         9.8   \n          2018-01-04   80.110497   0.318179  137.417931         9.8   \n          2018-01-05   84.944751   0.287190  138.058959         9.8   \n          2018-01-08   86.602210   0.267404  136.500415         9.8   \n\n                      remain_size  remain_cap  turnover  cap_mv_rate  \\\ncode      trade_date                                                   \n110030.SH 2018-01-02      9.77498   10.302829  0.009298     0.086676   \n          2018-01-03      9.77498   10.308694  0.010010     0.086425   \n          2018-01-04      9.77498   10.322379  0.008867     0.086391   \n          2018-01-05      9.77498   10.687963  0.048338     0.084360   \n          2018-01-08      9.77477   10.728788  0.032209     0.083061   \n\n                       list_date  list_days conv_start_date  \\\ncode      trade_date                                          \n110030.SH 2018-01-02  2015-01-13       1086      2015-06-30   \n          2018-01-03  2015-01-13       1087      2015-06-30   \n          2018-01-04  2015-01-13       1088      2015-06-30   \n          2018-01-05  2015-01-13       1089      2015-06-30   \n          2018-01-08  2015-01-13       1092      2015-06-30   \n\n                      left_conv_start_days conv_end_date  left_years  \\\ncode      trade_date                                                   \n110030.SH 2018-01-02                  -917    2019-12-24    1.978082   \n          2018-01-03                  -918    2019-12-24    1.975342   \n          2018-01-04                  -919    2019-12-24    1.972603   \n          2018-01-05                  -920    2019-12-24    1.969863   \n          2018-01-08                  -923    2019-12-24    1.961644   \n\n                           ytm  pure_value  bond_prem  option_value  \\\ncode      trade_date                                                  \n110030.SH 2018-01-02  0.010109   96.481599   0.092436      9.041548   \n          2018-01-03  0.009830   96.551329   0.092269      9.144338   \n          2018-01-04  0.009159   96.530032   0.093960      9.190142   \n          2018-01-05 -0.008651   96.561903   0.132331     11.815957   \n          2018-01-08 -0.010640   96.617037   0.136032     12.669239   \n\n                      theory_value  theory_bias rating yy_rating orgform area  \\\ncode      trade_date                                                            \n110030.SH 2018-01-02    105.523147    -0.001168     AA            地方国有企业   广东   \n          2018-01-03    105.695667    -0.002235     AA            地方国有企业   广东   \n          2018-01-04    105.720175    -0.001138     AA            地方国有企业   广东   \n          2018-01-05    108.377859     0.008800     AA            地方国有企业   广东   \n          2018-01-08    109.286275     0.004316     AA            地方国有企业   广东   \n\n                     industry_1 industry_2 industry_3  maturity_put_price  \\\ncode      trade_date                                                        \n110030.SH 2018-01-02        房地产      房地产开发      房地产开发               106.0   \n          2018-01-03        房地产      房地产开发      房地产开发               106.0   \n          2018-01-04        房地产      房地产开发      房地产开发               106.0   \n          2018-01-05        房地产      房地产开发      房地产开发               106.0   \n          2018-01-08        房地产      房地产开发      房地产开发               106.0   \n\n                      theory_conv_prem  mod_conv_prem  \ncode      trade_date                                   \n110030.SH 2018-01-02          0.212592       0.109931  \n          2018-01-03          0.217011       0.101694  \n          2018-01-04          0.219725       0.098455  \n          2018-01-05          0.186283       0.100907  \n          2018-01-08          0.179206       0.088198  ",
      "text/html": "<div>\n<style scoped>\n    .dataframe tbody tr th:only-of-type {\n        vertical-align: middle;\n    }\n\n    .dataframe tbody tr th {\n        vertical-align: top;\n    }\n\n    .dataframe thead th {\n        text-align: right;\n    }\n</style>\n<table border=\"1\" class=\"dataframe\">\n  <thead>\n    <tr style=\"text-align: right;\">\n      <th></th>\n      <th></th>\n      <th>name</th>\n      <th>pre_close</th>\n      <th>open</th>\n      <th>high</th>\n      <th>low</th>\n      <th>close</th>\n      <th>pct_chg</th>\n      <th>vol</th>\n      <th>amount</th>\n      <th>volatility</th>\n      <th>code_stk</th>\n      <th>name_stk</th>\n      <th>pre_close_stk</th>\n      <th>open_stk</th>\n      <th>high_stk</th>\n      <th>low_stk</th>\n      <th>close_stk</th>\n      <th>pct_chg_stk</th>\n      <th>vol_stk</th>\n      <th>amount_stk</th>\n      <th>pe_ttm</th>\n      <th>pb</th>\n      <th>ps_ttm</th>\n      <th>dv_ratio</th>\n      <th>total_share</th>\n      <th>float_share</th>\n      <th>total_mv</th>\n      <th>circ_mv</th>\n      <th>debt_to_assets</th>\n      <th>volatility_stk</th>\n      <th>pct_chg_5</th>\n      <th>pct_chg_5_stk</th>\n      <th>bias_5</th>\n      <th>is_call</th>\n      <th>conv_price</th>\n      <th>conv_value</th>\n      <th>conv_prem</th>\n      <th>dblow</th>\n      <th>issue_size</th>\n      <th>remain_size</th>\n      <th>remain_cap</th>\n      <th>turnover</th>\n      <th>cap_mv_rate</th>\n      <th>list_date</th>\n      <th>list_days</th>\n      <th>conv_start_date</th>\n      <th>left_conv_start_days</th>\n      <th>conv_end_date</th>\n      <th>left_years</th>\n      <th>ytm</th>\n      <th>pure_value</th>\n      <th>bond_prem</th>\n      <th>option_value</th>\n      <th>theory_value</th>\n      <th>theory_bias</th>\n      <th>rating</th>\n      <th>yy_rating</th>\n      <th>orgform</th>\n      <th>area</th>\n      <th>industry_1</th>\n      <th>industry_2</th>\n      <th>industry_3</th>\n      <th>maturity_put_price</th>\n      <th>theory_conv_prem</th>\n      <th>mod_conv_prem</th>\n    </tr>\n    <tr>\n      <th>code</th>\n      <th>trade_date</th>\n      <th></th>\n      <th></th>\n      <th></th>\n      <th></th>\n      <th></th>\n      <th></th>\n      <th></th>\n      <th></th>\n      <th></th>\n      <th></th>\n      <th></th>\n      <th></th>\n      <th></th>\n      <th></th>\n      <th></th>\n      <th></th>\n      <th></th>\n      <th></th>\n      <th></th>\n      <th></th>\n      <th></th>\n      <th></th>\n      <th></th>\n      <th></th>\n      <th></th>\n      <th></th>\n      <th></th>\n      <th></th>\n      <th></th>\n      <th></th>\n      <th></th>\n      <th></th>\n      <th></th>\n      <th></th>\n      <th></th>\n      <th></th>\n      <th></th>\n      <th></th>\n      <th></th>\n      <th></th>\n      <th></th>\n      <th></th>\n      <th></th>\n      <th></th>\n      <th></th>\n      <th></th>\n      <th></th>\n      <th></th>\n      <th></th>\n      <th></th>\n      <th></th>\n      <th></th>\n      <th></th>\n      <th></th>\n      <th></th>\n      <th></th>\n      <th></th>\n      <th></th>\n      <th></th>\n      <th></th>\n      <th></th>\n      <th></th>\n      <th></th>\n      <th></th>\n      <th></th>\n    </tr>\n  </thead>\n  <tbody>\n    <tr>\n      <th rowspan=\"5\" valign=\"top\">110030.SH</th>\n      <th>2018-01-02</th>\n      <td>格力转债</td>\n      <td>105.28</td>\n      <td>105.30</td>\n      <td>106.18</td>\n      <td>105.30</td>\n      <td>105.40</td>\n      <td>0.001140</td>\n      <td>9075.0</td>\n      <td>958.0068</td>\n      <td>0.103224</td>\n      <td>600185.SH</td>\n      <td>格力地产</td>\n      <td>5.68</td>\n      <td>5.66</td>\n      <td>5.89</td>\n      <td>5.66</td>\n      <td>5.77</td>\n      <td>0.015845</td>\n      <td>123240.77</td>\n      <td>71342.620</td>\n      <td>18.2321</td>\n      <td>1.5625</td>\n      <td>3.6100</td>\n      <td>0.003466</td>\n      <td>206007.7575</td>\n      <td>206007.7575</td>\n      <td>118.866476</td>\n      <td>118.866476</td>\n      <td>0.719948</td>\n      <td>0.294814</td>\n      <td>-0.001421</td>\n      <td>0.032200</td>\n      <td>-0.033621</td>\n      <td></td>\n      <td>7.24</td>\n      <td>79.696133</td>\n      <td>0.322523</td>\n      <td>137.652340</td>\n      <td>9.8</td>\n      <td>9.77498</td>\n      <td>10.302829</td>\n      <td>0.009298</td>\n      <td>0.086676</td>\n      <td>2015-01-13</td>\n      <td>1086</td>\n      <td>2015-06-30</td>\n      <td>-917</td>\n      <td>2019-12-24</td>\n      <td>1.978082</td>\n      <td>0.010109</td>\n      <td>96.481599</td>\n      <td>0.092436</td>\n      <td>9.041548</td>\n      <td>105.523147</td>\n      <td>-0.001168</td>\n      <td>AA</td>\n      <td></td>\n      <td>地方国有企业</td>\n      <td>广东</td>\n      <td>房地产</td>\n      <td>房地产开发</td>\n      <td>房地产开发</td>\n      <td>106.0</td>\n      <td>0.212592</td>\n      <td>0.109931</td>\n    </tr>\n    <tr>\n      <th>2018-01-03</th>\n      <td>格力转债</td>\n      <td>105.40</td>\n      <td>105.40</td>\n      <td>105.72</td>\n      <td>105.40</td>\n      <td>105.46</td>\n      <td>0.000569</td>\n      <td>9783.0</td>\n      <td>1031.8907</td>\n      <td>0.103226</td>\n      <td>600185.SH</td>\n      <td>格力地产</td>\n      <td>5.77</td>\n      <td>5.74</td>\n      <td>5.83</td>\n      <td>5.70</td>\n      <td>5.79</td>\n      <td>0.003466</td>\n      <td>112470.22</td>\n      <td>64885.787</td>\n      <td>18.2952</td>\n      <td>1.5679</td>\n      <td>3.6225</td>\n      <td>0.003454</td>\n      <td>206007.7575</td>\n      <td>206007.7575</td>\n      <td>119.278492</td>\n      <td>119.278492</td>\n      <td>0.719948</td>\n      <td>0.294711</td>\n      <td>0.000949</td>\n      <td>0.032086</td>\n      <td>-0.031136</td>\n      <td></td>\n      <td>7.24</td>\n      <td>79.972376</td>\n      <td>0.318705</td>\n      <td>137.330535</td>\n      <td>9.8</td>\n      <td>9.77498</td>\n      <td>10.308694</td>\n      <td>0.010010</td>\n      <td>0.086425</td>\n      <td>2015-01-13</td>\n      <td>1087</td>\n      <td>2015-06-30</td>\n      <td>-918</td>\n      <td>2019-12-24</td>\n      <td>1.975342</td>\n      <td>0.009830</td>\n      <td>96.551329</td>\n      <td>0.092269</td>\n      <td>9.144338</td>\n      <td>105.695667</td>\n      <td>-0.002235</td>\n      <td>AA</td>\n      <td></td>\n      <td>地方国有企业</td>\n      <td>广东</td>\n      <td>房地产</td>\n      <td>房地产开发</td>\n      <td>房地产开发</td>\n      <td>106.0</td>\n      <td>0.217011</td>\n      <td>0.101694</td>\n    </tr>\n    <tr>\n      <th>2018-01-04</th>\n      <td>格力转债</td>\n      <td>105.46</td>\n      <td>105.50</td>\n      <td>105.73</td>\n      <td>105.30</td>\n      <td>105.60</td>\n      <td>0.001328</td>\n      <td>8676.0</td>\n      <td>915.2612</td>\n      <td>0.103057</td>\n      <td>600185.SH</td>\n      <td>格力地产</td>\n      <td>5.79</td>\n      <td>5.78</td>\n      <td>5.84</td>\n      <td>5.74</td>\n      <td>5.80</td>\n      <td>0.001727</td>\n      <td>86917.89</td>\n      <td>50287.495</td>\n      <td>18.3269</td>\n      <td>1.5706</td>\n      <td>3.6288</td>\n      <td>0.003448</td>\n      <td>206007.9508</td>\n      <td>206007.9508</td>\n      <td>119.484611</td>\n      <td>119.484611</td>\n      <td>0.719948</td>\n      <td>0.294694</td>\n      <td>0.007345</td>\n      <td>0.048825</td>\n      <td>-0.041479</td>\n      <td></td>\n      <td>7.24</td>\n      <td>80.110497</td>\n      <td>0.318179</td>\n      <td>137.417931</td>\n      <td>9.8</td>\n      <td>9.77498</td>\n      <td>10.322379</td>\n      <td>0.008867</td>\n      <td>0.086391</td>\n      <td>2015-01-13</td>\n      <td>1088</td>\n      <td>2015-06-30</td>\n      <td>-919</td>\n      <td>2019-12-24</td>\n      <td>1.972603</td>\n      <td>0.009159</td>\n      <td>96.530032</td>\n      <td>0.093960</td>\n      <td>9.190142</td>\n      <td>105.720175</td>\n      <td>-0.001138</td>\n      <td>AA</td>\n      <td></td>\n      <td>地方国有企业</td>\n      <td>广东</td>\n      <td>房地产</td>\n      <td>房地产开发</td>\n      <td>房地产开发</td>\n      <td>106.0</td>\n      <td>0.219725</td>\n      <td>0.098455</td>\n    </tr>\n    <tr>\n      <th>2018-01-05</th>\n      <td>格力转债</td>\n      <td>105.60</td>\n      <td>106.08</td>\n      <td>109.86</td>\n      <td>105.71</td>\n      <td>109.34</td>\n      <td>0.035417</td>\n      <td>47628.0</td>\n      <td>5166.3701</td>\n      <td>0.109005</td>\n      <td>600185.SH</td>\n      <td>格力地产</td>\n      <td>5.80</td>\n      <td>5.82</td>\n      <td>6.26</td>\n      <td>5.82</td>\n      <td>6.15</td>\n      <td>0.060345</td>\n      <td>506597.49</td>\n      <td>307682.959</td>\n      <td>19.4328</td>\n      <td>1.6654</td>\n      <td>3.8477</td>\n      <td>0.003252</td>\n      <td>206007.9508</td>\n      <td>206007.9508</td>\n      <td>126.694890</td>\n      <td>126.694890</td>\n      <td>0.719948</td>\n      <td>0.300755</td>\n      <td>0.045815</td>\n      <td>0.110108</td>\n      <td>-0.064293</td>\n      <td></td>\n      <td>7.24</td>\n      <td>84.944751</td>\n      <td>0.287190</td>\n      <td>138.058959</td>\n      <td>9.8</td>\n      <td>9.77498</td>\n      <td>10.687963</td>\n      <td>0.048338</td>\n      <td>0.084360</td>\n      <td>2015-01-13</td>\n      <td>1089</td>\n      <td>2015-06-30</td>\n      <td>-920</td>\n      <td>2019-12-24</td>\n      <td>1.969863</td>\n      <td>-0.008651</td>\n      <td>96.561903</td>\n      <td>0.132331</td>\n      <td>11.815957</td>\n      <td>108.377859</td>\n      <td>0.008800</td>\n      <td>AA</td>\n      <td></td>\n      <td>地方国有企业</td>\n      <td>广东</td>\n      <td>房地产</td>\n      <td>房地产开发</td>\n      <td>房地产开发</td>\n      <td>106.0</td>\n      <td>0.186283</td>\n      <td>0.100907</td>\n    </tr>\n    <tr>\n      <th>2018-01-08</th>\n      <td>格力转债</td>\n      <td>109.34</td>\n      <td>109.31</td>\n      <td>111.89</td>\n      <td>108.73</td>\n      <td>109.76</td>\n      <td>0.003841</td>\n      <td>31285.0</td>\n      <td>3455.6852</td>\n      <td>0.108986</td>\n      <td>600185.SH</td>\n      <td>格力地产</td>\n      <td>6.15</td>\n      <td>6.13</td>\n      <td>6.44</td>\n      <td>6.08</td>\n      <td>6.27</td>\n      <td>0.019512</td>\n      <td>565535.31</td>\n      <td>356757.949</td>\n      <td>19.8120</td>\n      <td>1.6979</td>\n      <td>3.9228</td>\n      <td>0.003190</td>\n      <td>206007.9508</td>\n      <td>206007.9508</td>\n      <td>129.166985</td>\n      <td>129.166985</td>\n      <td>0.719948</td>\n      <td>0.301309</td>\n      <td>0.042553</td>\n      <td>0.103873</td>\n      <td>-0.061320</td>\n      <td></td>\n      <td>7.24</td>\n      <td>86.602210</td>\n      <td>0.267404</td>\n      <td>136.500415</td>\n      <td>9.8</td>\n      <td>9.77477</td>\n      <td>10.728788</td>\n      <td>0.032209</td>\n      <td>0.083061</td>\n      <td>2015-01-13</td>\n      <td>1092</td>\n      <td>2015-06-30</td>\n      <td>-923</td>\n      <td>2019-12-24</td>\n      <td>1.961644</td>\n      <td>-0.010640</td>\n      <td>96.617037</td>\n      <td>0.136032</td>\n      <td>12.669239</td>\n      <td>109.286275</td>\n      <td>0.004316</td>\n      <td>AA</td>\n      <td></td>\n      <td>地方国有企业</td>\n      <td>广东</td>\n      <td>房地产</td>\n      <td>房地产开发</td>\n      <td>房地产开发</td>\n      <td>106.0</td>\n      <td>0.179206</td>\n      <td>0.088198</td>\n    </tr>\n  </tbody>\n</table>\n</div>"
     },
     "execution_count": 1,
     "metadata": {},
     "output_type": "execute_result"
    }
   ],
   "source": [
    "import warnings\n",
    "\n",
    "warnings.filterwarnings('ignore')  # 忽略警告\n",
    "import pandas as pd\n",
    "from pandas import IndexSlice as idx\n",
    "\n",
    "pd.set_option('display.max_columns', None)  # 当列太多时不换行\n",
    "df = pd.read_parquet('cb_data.pq')  # 导入转债数据\n",
    "index = pd.read_parquet('index.pq')  # 导入指数数据\n",
    "from numpy import nan\n",
    "\n",
    "df.head()\n",
    "# df.columns"
   ]
  },
  {
   "cell_type": "code",
   "execution_count": 2,
   "metadata": {
    "ExecuteTime": {
     "end_time": "2024-04-13T05:08:29.431355Z",
     "start_time": "2024-04-13T05:08:29.401657Z"
    }
   },
   "outputs": [],
   "source": [
    "# 基础设置\n",
    "start_date = '20220801'  # 开始日期\n",
    "end_date = '20240325' # 结束日期\n",
    "hold_num = 5  # 持有数量\n",
    "threadhold_num = 5  # 轮动阈值\n",
    "c_rate = 1 / 1000  # 买卖一次花费的总佣金和滑点（双边）\n",
    "benchmark = 'index_jsl'  # 选择基准，集思录等权:index_jsl, 沪深300:index_300, 中证1000:index_1000, 国证2000:index_2000\n",
    "shares_per_board_lot = 10  # 每手数量(最小交易单位)"
   ]
  },
  {
   "cell_type": "code",
   "execution_count": 3,
   "metadata": {
    "ExecuteTime": {
     "end_time": "2024-04-13T05:08:30.209575Z",
     "start_time": "2024-04-13T05:08:29.422394Z"
    }
   },
   "outputs": [],
   "source": [
    "# 排除设置\n",
    "df = df[(df.index.get_level_values('trade_date') >= start_date) & (\n",
    "        df.index.get_level_values('trade_date') <= end_date)]  # 选择时间范围内数据\n",
    "df['filter'] = False  # 初始化过滤器\n",
    "\n",
    "df['close_pct'] = df.groupby('trade_date')['close'].rank(pct=True)  # 将收盘从小到大百分比排列\n",
    "\n",
    "df.loc[df.is_call.isin(\n",
    "    ['已公告强赎', '公告到期赎回', '公告实施强赎', '公告提示强赎', '已满足强赎条件']), 'filter'] = True  # 排除赎回状态\n",
    "df.loc[df.list_days <= 3, 'filter'] = True # 排除新债\n",
    "df.loc[df.left_years < 0.5, 'filter'] = True  # 排除到期日小于1年的标的\n",
    "\n",
    "# df.loc[df.conv_prem >0.5 , 'filter'] = True # 排除溢价率\n",
    "# df.loc[df.remain_size > 10, 'filter'] = True # 排除剩余规模\n",
    "# df.loc[df.rating.isin(\n",
    "#     ['BBB+', 'BBB', 'BBB+', 'BB+', 'BB', 'BB-', 'B+', 'B', 'B-', 'CCC+', 'CCC', 'CCC-']), 'filter'] = True  # 排除评级\n",
    "df.loc[df.close > 145, 'filter'] = True  # 排除价格\n",
    "df.loc[df.close < 100, 'filter'] = True  # 排除价格\n",
    "#df.loc[df.ps_ttm < 0, 'filter'] = True # 排除市盈率\n",
    "#df.loc[df.ps_ttm < 0, 'filter'] = True # 排除市销率\n",
    "# df.loc[df.pb < 0, 'filter'] = True # 排除市净率\n",
    "# df.loc[df.close_pct > 0.8, 'filter'] = True # 排除收盘价高于x%的标的"
   ]
  },
  {
   "cell_type": "code",
   "execution_count": 4,
   "metadata": {
    "ExecuteTime": {
     "end_time": "2024-04-13T05:08:30.210498Z",
     "start_time": "2024-04-13T05:08:29.869633Z"
    }
   },
   "outputs": [],
   "source": [
    "# 计算多因子得分 和 排名(score总分越大越好， rank总排名越小越好)\n",
    "\n",
    "# 生成因子字典，name:列名，weight:权重, ascending:排序方向\n",
    "rank_factors =[{'name': 'cap_mv_rate', 'weight': 5, 'ascending': True},\n",
    " {'name': 'open', 'weight': 3, 'ascending': False},\n",
    " {'name': 'amount', 'weight': 3, 'ascending': False},\n",
    " {'name': 'theory_conv_prem', 'weight': 3, 'ascending': True},\n",
    " {'name': 'turnover', 'weight': 5, 'ascending': False},\n",
    " {'name': 'mod_conv_prem', 'weight': 2, 'ascending': True}]"
   ]
  },
  {
   "cell_type": "code",
   "execution_count": 5,
   "metadata": {
    "ExecuteTime": {
     "end_time": "2024-04-13T05:08:31.105504Z",
     "start_time": "2024-04-13T05:08:29.885958Z"
    }
   },
   "outputs": [],
   "source": [
    "# 计算多因子得分 和 排名(score总分越大越好， rank总排名越小越好)\n",
    "trade_date_group = df[df['filter'] == False].groupby('trade_date')\n",
    "for factor in rank_factors:\n",
    "    if factor['name'] in df.columns:\n",
    "        df[f'{factor[\"name\"]}_score'] = trade_date_group[factor[\"name\"]].rank(ascending=factor['ascending']) * factor[\n",
    "            'weight']\n",
    "    else:\n",
    "        print(f'未找到因子【{factor[\"name\"]}】, 跳过')\n",
    "\n",
    "df['score'] = df[df.filter(like='score').columns].sum(axis=1, min_count=1)\n",
    "if hold_num >= 1:\n",
    "    df['rank'] = df.groupby('trade_date')['score'].rank('first', ascending=False)\n",
    "else:\n",
    "    df['rank_pct'] = df.groupby('trade_date')['score'].rank('first', ascending=False, pct=False)"
   ]
  },
  {
   "cell_type": "code",
   "execution_count": 6,
   "metadata": {
    "ExecuteTime": {
     "end_time": "2024-04-13T05:08:46.426832Z",
     "start_time": "2024-04-13T05:08:31.124220Z"
    }
   },
   "outputs": [],
   "source": [
    "# 阈值轮动\n",
    "if threadhold_num:\n",
    "    df.rename(columns={'rank': 'ori_rank'}, inplace=True)  # 记录原排名\n",
    "    df['rank'] = nan  # 初始化排名\n",
    "    df['mod_rank'] = nan  # 初始化修正排名\n",
    "    RANK_INDEX = df.columns.get_loc('rank')  # 排名下标值\n",
    "    ORI_RANK_INDEX = df.columns.get_loc('ori_rank')  # 原始排名下标值\n",
    "    df.iloc[df.index.get_level_values(1) == df.index.get_level_values(1)[0], RANK_INDEX] = df.iloc[\n",
    "        df.index.get_level_values(1) == df.index.get_level_values(1)[0], ORI_RANK_INDEX]  # 首日排名等于原排名\n",
    "\n",
    "    trade_date_list = df.index.get_level_values('trade_date').unique()  # 交易日列表\n",
    "\n",
    "    # 遍历每个交易日对排名进行处理\n",
    "    for trade_date, _df in df.groupby('trade_date'):\n",
    "        # 跳过首日\n",
    "        if trade_date == df.index.get_level_values(1)[0]:\n",
    "            continue\n",
    "        last_trade_date = trade_date_list[trade_date_list.get_loc(trade_date) - 1]  # 上个交易日日期\n",
    "\n",
    "        # 构建一个包含当日原始排名（ori_rank）、上个交易日排名（last_rank）、修正排名（mod_rank）和重新排序后的最终排名（rank）的_ranks_df\n",
    "        _ranks_df = df.loc[df.index.get_level_values('trade_date') == trade_date, ['ori_rank']] \\\n",
    "            .merge(df.loc[df.index.get_level_values('trade_date') == last_trade_date, 'rank'], how='left', on='code') \\\n",
    "            .rename(columns={'rank': 'last_rank'})\n",
    "\n",
    "        # 若上一交易日排名last_rank <= hold_num，今日mod_rank = ori_rank - threadhold_num，否则今日mod_rank = ori_rank\n",
    "        _ranks_df['mod_rank'] = (_ranks_df['ori_rank'] - threadhold_num).where(_ranks_df['last_rank'] <= hold_num,\n",
    "                                                                               _ranks_df['ori_rank'])\n",
    "        # 根据mod_rank 重新排序出今日rank\n",
    "        _ranks_df['rank'] = _ranks_df['mod_rank'].rank(method='first')\n",
    "\n",
    "        # 将今日最终排名rank写入原df\n",
    "        df.loc[df.index.get_level_values('trade_date') == trade_date, ['mod_rank', 'rank']] = _ranks_df[\n",
    "            ['mod_rank', 'rank']].values\n"
   ]
  },
  {
   "cell_type": "code",
   "execution_count": 7,
   "metadata": {
    "ExecuteTime": {
     "end_time": "2024-04-13T05:08:46.441303Z",
     "start_time": "2024-04-13T05:08:46.428620Z"
    }
   },
   "outputs": [],
   "source": [
    "# 检查核对使用\n",
    "#df['last_rank'] = df.groupby('code').shift(1)['rank'] # 计算上个交易日排名\n",
    "#df.loc[df.index.get_level_values('trade_date')=='2023-09-01']# 查看某日情况\n"
   ]
  },
  {
   "cell_type": "code",
   "execution_count": 8,
   "metadata": {
    "ExecuteTime": {
     "end_time": "2024-04-13T05:08:46.541747Z",
     "start_time": "2024-04-13T05:08:46.440468Z"
    }
   },
   "outputs": [],
   "source": [
    "# 计算每日信号 采样信号 持仓状态\n",
    "code_group = df.groupby('code')\n",
    "df['time_return'] = code_group.pct_chg.shift(-1)  # 计算标的每日回报\n",
    "df.loc[(df['rank'] <= hold_num), 'signal'] = 1  # 标记信号\n",
    "df.dropna(subset=['signal'], inplace=True)  # 删除没有标记的行\n",
    "df.sort_values(by='trade_date', inplace=True)  # 按日期排序"
   ]
  },
  {
   "cell_type": "code",
   "execution_count": 9,
   "metadata": {
    "ExecuteTime": {
     "end_time": "2024-04-13T05:08:46.598603Z",
     "start_time": "2024-04-13T05:08:46.550824Z"
    }
   },
   "outputs": [],
   "source": [
    "# 计算组合回报\n",
    "res = pd.DataFrame()\n",
    "res['time_return'] = df.groupby('trade_date')['time_return'].mean()  # 按等权计算组合回报\n",
    "# 计算手续费\n",
    "pos_df = df['signal'].unstack('code')\n",
    "pos_df.fillna(0, inplace=True)\n",
    "res['cost'] = pos_df.diff().abs().sum(axis=1) * c_rate / (pos_df.shift().sum(axis=1) + pos_df.sum(axis=1))\n",
    "res.iloc[0, 1] = 0.5 * c_rate  # 修正首行手续费\n",
    "res['time_return'] = (res['time_return'] + 1) * (1 - res['cost']) - 1  # 扣除手续费及佣金后的回报"
   ]
  },
  {
   "cell_type": "code",
   "execution_count": 10,
   "metadata": {
    "ExecuteTime": {
     "end_time": "2024-04-13T05:08:50.977582Z",
     "start_time": "2024-04-13T05:08:46.589660Z"
    }
   },
   "outputs": [],
   "source": [
    "# 用quantstats生成评价报告\n",
    "import quantstats as qs\n",
    "\n",
    "# qs.reports.basic(res['time_return'], benchmark=index[benchmark])"
   ]
  },
  {
   "cell_type": "code",
   "execution_count": 11,
   "outputs": [
    {
     "name": "stdout",
     "output_type": "stream",
     "text": [
      "CAGR: -7.33%\n"
     ]
    }
   ],
   "source": [
    "cagr = qs.stats.cagr(res['time_return'])\n",
    "print(\"CAGR: {:.2%}\".format(cagr))"
   ],
   "metadata": {
    "collapsed": false,
    "ExecuteTime": {
     "end_time": "2024-04-13T05:08:51.653671Z",
     "start_time": "2024-04-13T05:08:50.984455Z"
    }
   }
  }
 ],
 "metadata": {
  "kernelspec": {
   "display_name": "Python 3",
   "language": "python",
   "name": "python3"
  },
  "language_info": {
   "codemirror_mode": {
    "name": "ipython",
    "version": 3
   },
   "file_extension": ".py",
   "mimetype": "text/x-python",
   "name": "python",
   "nbconvert_exporter": "python",
   "pygments_lexer": "ipython3",
   "version": "3.7.0"
  },
  "toc": {
   "base_numbering": 1,
   "nav_menu": {},
   "number_sections": true,
   "sideBar": true,
   "skip_h1_title": false,
   "title_cell": "Table of Contents",
   "title_sidebar": "Contents",
   "toc_cell": false,
   "toc_position": {},
   "toc_section_display": true,
   "toc_window_display": false
  },
  "vscode": {
   "interpreter": {
    "hash": "e7b6214bfe3ce19b2336b5ee82fe9739f68968628bd5eb86b17deae08d37c2fd"
   }
  }
 },
 "nbformat": 4,
 "nbformat_minor": 4
}
