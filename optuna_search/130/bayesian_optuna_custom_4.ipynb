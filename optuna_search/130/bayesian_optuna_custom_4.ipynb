{
 "cells": [
  {
   "cell_type": "code",
   "execution_count": null,
   "outputs": [],
   "source": [
    "import optuna\n",
    "import pandas as pd\n",
    "from cal_factor_util import add_custom_factors\n",
    "\n",
    "df = pd.read_parquet('cb_data.pq')\n",
    "index = pd.read_parquet('index.pq')\n",
    "df = add_custom_factors(df)"
   ],
   "metadata": {
    "collapsed": false
   },
   "id": "initial_id"
  },
  {
   "cell_type": "code",
   "execution_count": null,
   "id": "566281d74fc59f25",
   "metadata": {
    "collapsed": false
   },
   "outputs": [],
   "source": [
    "# 基础设置\n",
    "n_trials = 2000  # 迭代次数\n",
    "n_jobs = 10  # 并行数量\n",
    "start_date = '20220801'  # 开始日期\n",
    "end_date = '20240325'  # 结束日期\n",
    "num_factors = 4  # 因子数量\n",
    "hold_num = 5  # 持仓数量\n",
    "threshold_num = 2  # 阈值轮动\n",
    "price_min = 100  # 最小价格\n",
    "price_max = 130  # 最大价格"
   ]
  },
  {
   "cell_type": "code",
   "execution_count": null,
   "id": "cf9438051c3529c3",
   "metadata": {
    "collapsed": false
   },
   "outputs": [],
   "source": [
    "# 参数空间定义\n",
    "factors = ['pre_close', 'open', 'high', 'low', 'close', 'pct_chg', 'vol',  # 7\n",
    "           'amount', 'volatility_stk', 'mod_conv_prem', 'remain_cap', 'conv_prem',  # 12\n",
    "           'turnover', 'theory_value', 'option_value', 'dblow',  # 16\n",
    "           'theory_bias', 'ytm', 'cap_mv_rate', 'pure_value', 'bond_prem',  # 21\n",
    "           'remain_size', 'theory_conv_prem', 'pb', 'pe_ttm', 'ps_ttm',  # 26\n",
    "           'pc1', 'pc3', 'pc5', 'pc7', 'rsi1',  # 31\n",
    "           'rsi3', 'rsi5', 'rsi7', 'stoch1', 'stoch_signal1', 'stoch2',  # 37\n",
    "           'stoch_signal2', 'stoch3', 'stoch_signal3', 'macd', 'macd_signal',  # 42\n",
    "           'macd_diff', 'adx7', 'adx14', 'momentum3', 'momentum6', 'momentum12',  # 48\n",
    "           'velocity3', 'velocity5', 'velocity7', 'pvt', 'volatility_stk5',  # 53\n",
    "           'volatility_stk10', 'volatility_stk20', 'trend_strength', 'dema5', 'dema21']  # 58"
   ]
  },
  {
   "cell_type": "code",
   "execution_count": null,
   "id": "556cf10621490d7f",
   "metadata": {
    "collapsed": false
   },
   "outputs": [],
   "source": [
    "import itertools\n",
    "from more_factor_test_origin_code import cal_cagr\n",
    "\n",
    "\n",
    "def decode_combination(encoded):\n",
    "    return [factors[i] for i in encoded]\n",
    "\n",
    "\n",
    "combinations = list(itertools.combinations(range(len(factors)), num_factors))\n",
    "encoded_combinations = {i: combo for i, combo in enumerate(combinations)}\n",
    "\n",
    "\n",
    "def objective(trial):\n",
    "    encoded_id = trial.suggest_int('encoded_id', 0, len(encoded_combinations) - 1)\n",
    "    factor_ids = encoded_combinations[encoded_id]\n",
    "\n",
    "    rank_factors = []\n",
    "    decoded_factors = decode_combination(factor_ids)\n",
    "    for i in range(num_factors):\n",
    "        factor_info = {\n",
    "            'name': decoded_factors[i],\n",
    "            'weight': trial.suggest_categorical(f'factor{i + 1}_weight', [1, 2, 3, 4, 5]),\n",
    "            'ascending': trial.suggest_categorical(f'factor{i + 1}_ascending', [True, False])\n",
    "        }\n",
    "        rank_factors.append(factor_info)\n",
    "\n",
    "    cagr = cal_cagr(df, start_date, end_date, hold_num, threshold_num, price_min, price_max, rank_factors)\n",
    "    print(\"factor_combination:{}, cagr:{}\".format(rank_factors, cagr))\n",
    "    return cagr"
   ]
  },
  {
   "cell_type": "code",
   "execution_count": null,
   "outputs": [],
   "source": [
    "# 创建一个研究对象并指定TPESampler\n",
    "study = optuna.create_study(sampler=optuna.samplers.TPESampler(seed=1212), direction='maximize')\n",
    "study.optimize(lambda trial: objective(trial), n_trials=n_trials, n_jobs=n_jobs)"
   ],
   "metadata": {
    "collapsed": false
   },
   "id": "d86963b56951aef1"
  },
  {
   "cell_type": "code",
   "execution_count": null,
   "id": "a30a9a32d2774872",
   "metadata": {
    "collapsed": false
   },
   "outputs": [],
   "source": [
    "# 打印最优参数\n",
    "best_params = study.best_params\n",
    "best_value = study.best_value\n",
    "print(\"最优参数：\", best_params)\n",
    "print(\"最优参数下的目标函数值：\", best_value)"
   ]
  },
  {
   "cell_type": "code",
   "execution_count": null,
   "outputs": [],
   "source": [
    "def flexible_decode_combination(encoded_params):\n",
    "    # 解码因子组合索引\n",
    "    factor_indices = combinations[encoded_params['encoded_id']]\n",
    "    # 构建详细的因子组合列表\n",
    "    rank_factors = []\n",
    "    for i, index in enumerate(factor_indices):\n",
    "        factor_info = {\n",
    "            'name': factors[index],\n",
    "            'weight': encoded_params[f'factor{i + 1}_weight'],\n",
    "            'ascending': encoded_params[f'factor{i + 1}_ascending']\n",
    "        }\n",
    "        rank_factors.append(factor_info)\n",
    "\n",
    "    return rank_factors"
   ],
   "metadata": {
    "collapsed": false
   },
   "id": "311876eb99d774fe"
  },
  {
   "cell_type": "code",
   "execution_count": null,
   "outputs": [],
   "source": [
    "factor_combination = flexible_decode_combination(best_params)\n",
    "print(\"自定义\")\n",
    "print(factor_combination)\n",
    "print(\"最优参数下的目标函数值：\", best_value)"
   ],
   "metadata": {
    "collapsed": false
   },
   "id": "da4046435207705"
  }
 ],
 "metadata": {
  "kernelspec": {
   "display_name": "Python 3 (ipykernel)",
   "language": "python",
   "name": "python3"
  },
  "language_info": {
   "codemirror_mode": {
    "name": "ipython",
    "version": 3
   },
   "file_extension": ".py",
   "mimetype": "text/x-python",
   "name": "python",
   "nbconvert_exporter": "python",
   "pygments_lexer": "ipython3",
   "version": "3.10.14"
  }
 },
 "nbformat": 4,
 "nbformat_minor": 5
}
