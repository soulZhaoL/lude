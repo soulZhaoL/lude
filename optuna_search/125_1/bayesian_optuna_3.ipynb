{
 "cells": [
  {
   "cell_type": "code",
   "execution_count": null,
   "outputs": [],
   "source": [
    "import optuna\n",
    "import pandas as pd\n",
    "\n",
    "df = pd.read_parquet('cb_data.pq')\n",
    "index = pd.read_parquet('index.pq')"
   ],
   "metadata": {
    "collapsed": false
   },
   "id": "initial_id"
  },
  {
   "cell_type": "code",
   "execution_count": null,
   "id": "566281d74fc59f25",
   "metadata": {
    "collapsed": false
   },
   "outputs": [],
   "source": [
    "# 基础设置\n",
    "start_date = '20220801'  # 开始日期\n",
    "end_date = '20240325'  # 结束日期"
   ]
  },
  {
   "cell_type": "code",
   "execution_count": null,
   "id": "cf9438051c3529c3",
   "metadata": {
    "collapsed": false
   },
   "outputs": [],
   "source": [
    "# 参数空间定义\n",
    "factors = ['pre_close', 'open', 'high', 'low', 'close', 'pct_chg', 'vol',  #7\n",
    "           'amount', 'volatility_stk', 'mod_conv_prem', 'remain_cap', 'conv_prem',  #12\n",
    "           'turnover', 'theory_value', 'amount', 'option_value', 'dblow',  #17\n",
    "           'theory_bias', 'ytm', 'cap_mv_rate', 'pure_value', 'bond_prem',  #22\n",
    "           'remain_size', 'theory_conv_prem', 'pb', 'pe_ttm', 'ps_ttm']  #27"
   ]
  },
  {
   "cell_type": "code",
   "execution_count": null,
   "id": "556cf10621490d7f",
   "metadata": {
    "collapsed": false
   },
   "outputs": [],
   "source": [
    "import itertools\n",
    "from more_factor_test_origin_code import cal_cagr\n",
    "\n",
    "def objective(trial, num_factors, hold_num, threshold_num, min, max):\n",
    "    # 动态选择不同数量的唯一因子\n",
    "    factor_combinations = []\n",
    "    for combination in itertools.combinations(range(len(factors)), num_factors):\n",
    "        factor_combinations.append(list(combination))\n",
    "    factor_ids = trial.suggest_categorical('factor_ids', factor_combinations)\n",
    "\n",
    "    rank_factors = []\n",
    "    for i in range(num_factors):\n",
    "        factor_info = {\n",
    "            'name': factors[factor_ids[i]],\n",
    "            'weight': trial.suggest_categorical(f'factor{i + 1}_weight', [1, 2, 3, 4, 5]),\n",
    "            'ascending': trial.suggest_categorical(f'factor{i + 1}_ascending', [True, False])\n",
    "        }\n",
    "        rank_factors.append(factor_info)\n",
    "\n",
    "    cagr = cal_cagr(df, start_date, end_date, hold_num, threshold_num, min, max, rank_factors)\n",
    "    print(rank_factors, cagr)\n",
    "    return cagr"
   ]
  },
  {
   "cell_type": "code",
   "execution_count": null,
   "outputs": [],
   "source": [
    "# 创建一个研究对象并指定TPESampler\n",
    "study = optuna.create_study(sampler=optuna.samplers.TPESampler(seed=1111), direction='maximize')\n",
    "study.optimize(lambda trial: objective(trial, num_factors=4, hold_num=5, threshold_num=5, min=100, max=150), n_trials=2000)"
   ],
   "metadata": {
    "collapsed": false
   },
   "id": "d86963b56951aef1"
  },
  {
   "cell_type": "code",
   "execution_count": null,
   "id": "a30a9a32d2774872",
   "metadata": {
    "collapsed": false
   },
   "outputs": [],
   "source": [
    "# 打印最优参数\n",
    "best_params = study.best_params\n",
    "best_value = study.best_value\n",
    "print(\"最优参数：\", best_params)\n",
    "print(\"最优参数下的目标函数值：\", best_value)"
   ]
  },
  {
   "cell_type": "code",
   "execution_count": null,
   "outputs": [],
   "source": [
    "def convert_optuna_result_to_format(result):\n",
    "    # 从Optuna的结果中提取因子索引\n",
    "    factor_ids = result['factor_ids']\n",
    "    # 初始化因子详情列表\n",
    "    formatted_factors = []\n",
    "\n",
    "    # 获取因子数量\n",
    "    num_factors = len(factor_ids)\n",
    "\n",
    "    # 遍历每个因子的信息，按照Optuna结果进行添加\n",
    "    for i in range(num_factors):\n",
    "        factor_info = {\n",
    "            'name': factors[factor_ids[i]],  # 根据索引获取因子名称\n",
    "            'weight': result[f'factor{i + 1}_weight'],  # 获取权重\n",
    "            'ascending': result[f'factor{i + 1}_ascending']  # 获取排序方向\n",
    "        }\n",
    "        formatted_factors.append(factor_info)\n",
    "\n",
    "    return formatted_factors"
   ],
   "metadata": {
    "collapsed": false
   },
   "id": "311876eb99d774fe"
  },
  {
   "cell_type": "code",
   "execution_count": null,
   "outputs": [],
   "source": [
    "factor_combination = convert_optuna_result_to_format(best_params)\n",
    "factor_combination"
   ],
   "metadata": {
    "collapsed": false
   },
   "id": "da4046435207705"
  }
 ],
 "metadata": {
  "kernelspec": {
   "display_name": "Python 3 (ipykernel)",
   "language": "python",
   "name": "python3"
  },
  "language_info": {
   "codemirror_mode": {
    "name": "ipython",
    "version": 3
   },
   "file_extension": ".py",
   "mimetype": "text/x-python",
   "name": "python",
   "nbconvert_exporter": "python",
   "pygments_lexer": "ipython3",
   "version": "3.10.14"
  }
 },
 "nbformat": 4,
 "nbformat_minor": 5
}
