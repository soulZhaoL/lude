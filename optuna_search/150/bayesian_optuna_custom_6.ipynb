{
 "cells": [
  {
   "cell_type": "code",
   "execution_count": null,
   "outputs": [],
   "source": [
    "import optuna\n",
    "import pandas as pd\n",
    "\n",
    "df = pd.read_parquet('cb_data.pq')\n",
    "index = pd.read_parquet('index.pq')"
   ],
   "metadata": {
    "collapsed": false
   },
   "id": "initial_id"
  },
  {
   "cell_type": "code",
   "execution_count": null,
   "id": "566281d74fc59f25",
   "metadata": {
    "collapsed": false
   },
   "outputs": [],
   "source": [
    "# 基础设置\n",
    "n_trials = 1000  # 迭代次数\n",
    "n_jobs = 10  # 并行数量\n",
    "start_date = '20220801'  # 开始日期\n",
    "end_date = '20240325'  # 结束日期\n",
    "num_factors = 6  # 因子数量\n",
    "hold_num = 5  # 持仓数量\n",
    "threshold_num = 5  # 阈值轮动\n",
    "price_min = 100  # 最小价格\n",
    "price_max = 150  # 最大价格"
   ]
  },
  {
   "cell_type": "code",
   "execution_count": null,
   "outputs": [],
   "source": [
    "from cal_factor_util import simple_momentum, rsi, stochastic_oscillator, macd, momentum, adx, velocity, pvt, \\\n",
    "    volatility_breakout, trend_strength, dema\n",
    "\n",
    "df['pc1'] = simple_momentum(df['close'], period=1)\n",
    "df['pc3'] = simple_momentum(df['close'], period=3)\n",
    "df['pc5'] = simple_momentum(df['close'], period=5)\n",
    "df['pc7'] = simple_momentum(df['close'], period=7)\n",
    "\n",
    "df['rsi1'] = rsi(df, period=1)\n",
    "df['rsi3'] = rsi(df, period=3)\n",
    "df['rsi5'] = rsi(df, period=5)\n",
    "df['rsi7'] = rsi(df, period=7)\n",
    "\n",
    "df['stoch1'], df['stoch_signal1'] = stochastic_oscillator(df, k_period=3, d_period=1)\n",
    "df['stoch2'], df['stoch_signal2'] = stochastic_oscillator(df, k_period=7, d_period=2)\n",
    "df['stoch3'], df['stoch_signal3'] = stochastic_oscillator(df, k_period=14, d_period=3)\n",
    "\n",
    "df['macd'], df['macd_signal'], df['macd_diff'] = macd(df, fast_period=12, slow_period=26, signal_period=9)\n",
    "\n",
    "df['adx7'] = adx(df, period=7)\n",
    "df['adx14'] = adx(df, period=14)\n",
    "\n",
    "df['momentum3'] = momentum(df['close'], period=3)\n",
    "df['momentum6'] = momentum(df['close'], period=6)\n",
    "df['momentum12'] = momentum(df['close'], period=12)\n",
    "\n",
    "df['velocity3'] = velocity(df['close'], period=3)\n",
    "df['velocity5'] = velocity(df['close'], period=5)\n",
    "df['velocity7'] = velocity(df['close'], period=7)\n",
    "\n",
    "df['pvt'] = pvt(df)\n",
    "\n",
    "df['volatility_stk5'] = volatility_breakout(df, period=5)\n",
    "df['volatility_stk10'] = volatility_breakout(df, period=10)\n",
    "df['volatility_stk20'] = volatility_breakout(df, period=20)\n",
    "\n",
    "df['trend_strength'] = trend_strength(df, short_window=12, long_window=26)\n",
    "\n",
    "df['dema5'] = dema(df, period=5)\n",
    "df['dema21'] = dema(df, period=21)"
   ],
   "metadata": {
    "collapsed": false
   },
   "id": "7b330a97b9a57845"
  },
  {
   "cell_type": "code",
   "execution_count": null,
   "id": "cf9438051c3529c3",
   "metadata": {
    "collapsed": false
   },
   "outputs": [],
   "source": [
    "# 参数空间定义\n",
    "factors = ['pre_close', 'open', 'high', 'low', 'close', 'pct_chg', 'vol',  # 7\n",
    "           'amount', 'volatility_stk', 'mod_conv_prem', 'remain_cap', 'conv_prem',  # 12\n",
    "           'turnover', 'theory_value', 'option_value', 'dblow',  # 16\n",
    "           'theory_bias', 'ytm', 'cap_mv_rate', 'pure_value', 'bond_prem',  # 21\n",
    "           'remain_size', 'theory_conv_prem', 'pb', 'pe_ttm', 'ps_ttm',  # 26\n",
    "           'pc1', 'pc3', 'pc5', 'pc7', 'rsi1',  # 31\n",
    "           'rsi3', 'rsi5', 'rsi7', 'stoch1', 'stoch_signal1', 'stoch2',  # 37\n",
    "           'stoch_signal2', 'stoch3', 'stoch_signal3', 'macd', 'macd_signal',  # 42\n",
    "           'macd_diff', 'adx7', 'adx14', 'momentum3', 'momentum6', 'momentum12',  # 48\n",
    "           'velocity3', 'velocity5', 'velocity7', 'pvt', 'volatility_stk5',  # 53\n",
    "           'volatility_stk10', 'volatility_stk20', 'trend_strength', 'dema5', 'dema21']  # 58"
   ]
  },
  {
   "cell_type": "code",
   "execution_count": null,
   "id": "556cf10621490d7f",
   "metadata": {
    "collapsed": false
   },
   "outputs": [],
   "source": [
    "import itertools\n",
    "from more_factor_test_origin_code import cal_cagr\n",
    "\n",
    "\n",
    "def decode_combination(encoded):\n",
    "    return [factors[i] for i in encoded]\n",
    "\n",
    "\n",
    "combinations = list(itertools.combinations(range(len(factors)), num_factors))\n",
    "encoded_combinations = {i: combo for i, combo in enumerate(combinations)}\n",
    "\n",
    "\n",
    "def objective(trial):\n",
    "    encoded_id = trial.suggest_int('encoded_id', 0, len(encoded_combinations) - 1)\n",
    "    factor_ids = encoded_combinations[encoded_id]\n",
    "\n",
    "    rank_factors = []\n",
    "    decoded_factors = decode_combination(factor_ids)\n",
    "    for i in range(num_factors):\n",
    "        factor_info = {\n",
    "            'name': decoded_factors[i],\n",
    "            'weight': trial.suggest_categorical(f'factor{i + 1}_weight', [1, 2, 3, 4, 5]),\n",
    "            'ascending': trial.suggest_categorical(f'factor{i + 1}_ascending', [True, False])\n",
    "        }\n",
    "        rank_factors.append(factor_info)\n",
    "\n",
    "    cagr = cal_cagr(df, start_date, end_date, hold_num, threshold_num, price_min, price_max, rank_factors)\n",
    "    print(\"factor_combination:{}, cagr:{}\".format(rank_factors, cagr))\n",
    "    return cagr"
   ]
  },
  {
   "cell_type": "code",
   "execution_count": null,
   "outputs": [],
   "source": [
    "# 创建一个研究对象并指定TPESampler\n",
    "study = optuna.create_study(sampler=optuna.samplers.TPESampler(seed=1212), direction='maximize')\n",
    "study.optimize(lambda trial: objective(trial), n_trials=n_trials, n_jobs=n_jobs)"
   ],
   "metadata": {
    "collapsed": false
   },
   "id": "d86963b56951aef1"
  },
  {
   "cell_type": "code",
   "execution_count": null,
   "id": "a30a9a32d2774872",
   "metadata": {
    "collapsed": false
   },
   "outputs": [],
   "source": [
    "# 打印最优参数\n",
    "best_params = study.best_params\n",
    "best_value = study.best_value\n",
    "print(\"最优参数：\", best_params)\n",
    "print(\"最优参数下的目标函数值：\", best_value)"
   ]
  },
  {
   "cell_type": "code",
   "execution_count": null,
   "outputs": [],
   "source": [
    "def flexible_decode_combination(encoded_params):\n",
    "    # 解码因子组合索引\n",
    "    factor_indices = combinations[encoded_params['encoded_id']]\n",
    "    # 构建详细的因子组合列表\n",
    "    rank_factors = []\n",
    "    for i, index in enumerate(factor_indices):\n",
    "        factor_info = {\n",
    "            'name': factors[index],\n",
    "            'weight': encoded_params[f'factor{i + 1}_weight'],\n",
    "            'ascending': encoded_params[f'factor{i + 1}_ascending']\n",
    "        }\n",
    "        rank_factors.append(factor_info)\n",
    "\n",
    "    return rank_factors"
   ],
   "metadata": {
    "collapsed": false
   },
   "id": "311876eb99d774fe"
  },
  {
   "cell_type": "code",
   "execution_count": null,
   "outputs": [],
   "source": [
    "factor_combination = flexible_decode_combination(best_params)\n",
    "factor_combination"
   ],
   "metadata": {
    "collapsed": false
   },
   "id": "da4046435207705"
  }
 ],
 "metadata": {
  "kernelspec": {
   "display_name": "Python 3 (ipykernel)",
   "language": "python",
   "name": "python3"
  },
  "language_info": {
   "codemirror_mode": {
    "name": "ipython",
    "version": 3
   },
   "file_extension": ".py",
   "mimetype": "text/x-python",
   "name": "python",
   "nbconvert_exporter": "python",
   "pygments_lexer": "ipython3",
   "version": "3.10.14"
  }
 },
 "nbformat": 4,
 "nbformat_minor": 5
}
